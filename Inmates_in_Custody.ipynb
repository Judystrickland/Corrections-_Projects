{
 "cells": [
  {
   "cell_type": "code",
   "execution_count": 104,
   "id": "5f2abcf4-fcf3-4e4b-8259-780f012b3c8a",
   "metadata": {
    "tags": []
   },
   "outputs": [],
   "source": [
    "import numpy as np \n",
    "import pandas as pd \n",
    "import matplotlib.pyplot as plt\n",
    "import seaborn as sns\n",
    "\n",
    "#Asking python to ignore warnings\n",
    "import warnings\n",
    "warnings.filterwarnings(\"ignore\")\n"
   ]
  },
  {
   "cell_type": "code",
   "execution_count": 105,
   "id": "16e5ae0f-22b3-42b6-9960-e9a4213691f7",
   "metadata": {
    "tags": []
   },
   "outputs": [
    {
     "data": {
      "text/html": [
       "<div>\n",
       "<style scoped>\n",
       "    .dataframe tbody tr th:only-of-type {\n",
       "        vertical-align: middle;\n",
       "    }\n",
       "\n",
       "    .dataframe tbody tr th {\n",
       "        vertical-align: top;\n",
       "    }\n",
       "\n",
       "    .dataframe thead th {\n",
       "        text-align: right;\n",
       "    }\n",
       "</style>\n",
       "<table border=\"1\" class=\"dataframe\">\n",
       "  <thead>\n",
       "    <tr style=\"text-align: right;\">\n",
       "      <th></th>\n",
       "      <th>ADMITTED_DT</th>\n",
       "      <th>CUSTODY_LEVEL</th>\n",
       "      <th>BRADH</th>\n",
       "      <th>RACE</th>\n",
       "      <th>GENDER</th>\n",
       "      <th>AGE</th>\n",
       "      <th>INMATE_STATUS_CODE</th>\n",
       "      <th>SEALED</th>\n",
       "      <th>SRG_FLG</th>\n",
       "      <th>INFRACTION</th>\n",
       "    </tr>\n",
       "  </thead>\n",
       "  <tbody>\n",
       "    <tr>\n",
       "      <th>570</th>\n",
       "      <td>2/10/2024 23:00</td>\n",
       "      <td>MAX</td>\n",
       "      <td>Y</td>\n",
       "      <td>B</td>\n",
       "      <td>M</td>\n",
       "      <td>25.0</td>\n",
       "      <td>DE</td>\n",
       "      <td>N</td>\n",
       "      <td>Y</td>\n",
       "      <td>Y</td>\n",
       "    </tr>\n",
       "    <tr>\n",
       "      <th>4625</th>\n",
       "      <td>1/8/2025 11:14</td>\n",
       "      <td>MIN</td>\n",
       "      <td>Y</td>\n",
       "      <td>B</td>\n",
       "      <td>M</td>\n",
       "      <td>53.0</td>\n",
       "      <td>DE</td>\n",
       "      <td>N</td>\n",
       "      <td>N</td>\n",
       "      <td>N</td>\n",
       "    </tr>\n",
       "    <tr>\n",
       "      <th>5471</th>\n",
       "      <td>7/8/2024 19:11</td>\n",
       "      <td>MAX</td>\n",
       "      <td>N</td>\n",
       "      <td>B</td>\n",
       "      <td>M</td>\n",
       "      <td>24.0</td>\n",
       "      <td>DE</td>\n",
       "      <td>N</td>\n",
       "      <td>Y</td>\n",
       "      <td>Y</td>\n",
       "    </tr>\n",
       "    <tr>\n",
       "      <th>1441</th>\n",
       "      <td>10/28/2024 15:45</td>\n",
       "      <td>MAX</td>\n",
       "      <td>Y</td>\n",
       "      <td>B</td>\n",
       "      <td>F</td>\n",
       "      <td>27.0</td>\n",
       "      <td>DE</td>\n",
       "      <td>N</td>\n",
       "      <td>N</td>\n",
       "      <td>Y</td>\n",
       "    </tr>\n",
       "    <tr>\n",
       "      <th>3258</th>\n",
       "      <td>12/6/2024 2:08</td>\n",
       "      <td>MAX</td>\n",
       "      <td>N</td>\n",
       "      <td>B</td>\n",
       "      <td>M</td>\n",
       "      <td>34.0</td>\n",
       "      <td>DE</td>\n",
       "      <td>N</td>\n",
       "      <td>N</td>\n",
       "      <td>Y</td>\n",
       "    </tr>\n",
       "    <tr>\n",
       "      <th>6414</th>\n",
       "      <td>7/9/2024 12:42</td>\n",
       "      <td>MED</td>\n",
       "      <td>N</td>\n",
       "      <td>B</td>\n",
       "      <td>M</td>\n",
       "      <td>30.0</td>\n",
       "      <td>DE</td>\n",
       "      <td>N</td>\n",
       "      <td>N</td>\n",
       "      <td>N</td>\n",
       "    </tr>\n",
       "    <tr>\n",
       "      <th>4537</th>\n",
       "      <td>1/15/2025 17:10</td>\n",
       "      <td>MIN</td>\n",
       "      <td>N</td>\n",
       "      <td>B</td>\n",
       "      <td>M</td>\n",
       "      <td>53.0</td>\n",
       "      <td>DE</td>\n",
       "      <td>N</td>\n",
       "      <td>N</td>\n",
       "      <td>N</td>\n",
       "    </tr>\n",
       "    <tr>\n",
       "      <th>139</th>\n",
       "      <td>4/26/2024 19:55</td>\n",
       "      <td>MIN</td>\n",
       "      <td>Y</td>\n",
       "      <td>B</td>\n",
       "      <td>M</td>\n",
       "      <td>46.0</td>\n",
       "      <td>DE</td>\n",
       "      <td>N</td>\n",
       "      <td>N</td>\n",
       "      <td>N</td>\n",
       "    </tr>\n",
       "    <tr>\n",
       "      <th>932</th>\n",
       "      <td>3/15/2025 0:43</td>\n",
       "      <td>MAX</td>\n",
       "      <td>N</td>\n",
       "      <td>B</td>\n",
       "      <td>M</td>\n",
       "      <td>25.0</td>\n",
       "      <td>CS</td>\n",
       "      <td>N</td>\n",
       "      <td>Y</td>\n",
       "      <td>Y</td>\n",
       "    </tr>\n",
       "    <tr>\n",
       "      <th>7096</th>\n",
       "      <td>5/27/2025 20:51</td>\n",
       "      <td>MED</td>\n",
       "      <td>Y</td>\n",
       "      <td>O</td>\n",
       "      <td>F</td>\n",
       "      <td>26.0</td>\n",
       "      <td>DE</td>\n",
       "      <td>N</td>\n",
       "      <td>N</td>\n",
       "      <td>Y</td>\n",
       "    </tr>\n",
       "  </tbody>\n",
       "</table>\n",
       "</div>"
      ],
      "text/plain": [
       "           ADMITTED_DT CUSTODY_LEVEL BRADH RACE GENDER   AGE  \\\n",
       "570    2/10/2024 23:00           MAX     Y    B      M  25.0   \n",
       "4625    1/8/2025 11:14           MIN     Y    B      M  53.0   \n",
       "5471    7/8/2024 19:11           MAX     N    B      M  24.0   \n",
       "1441  10/28/2024 15:45           MAX     Y    B      F  27.0   \n",
       "3258    12/6/2024 2:08           MAX     N    B      M  34.0   \n",
       "6414    7/9/2024 12:42           MED     N    B      M  30.0   \n",
       "4537   1/15/2025 17:10           MIN     N    B      M  53.0   \n",
       "139    4/26/2024 19:55           MIN     Y    B      M  46.0   \n",
       "932     3/15/2025 0:43           MAX     N    B      M  25.0   \n",
       "7096   5/27/2025 20:51           MED     Y    O      F  26.0   \n",
       "\n",
       "     INMATE_STATUS_CODE SEALED SRG_FLG INFRACTION  \n",
       "570                  DE      N       Y          Y  \n",
       "4625                 DE      N       N          N  \n",
       "5471                 DE      N       Y          Y  \n",
       "1441                 DE      N       N          Y  \n",
       "3258                 DE      N       N          Y  \n",
       "6414                 DE      N       N          N  \n",
       "4537                 DE      N       N          N  \n",
       "139                  DE      N       N          N  \n",
       "932                  CS      N       Y          Y  \n",
       "7096                 DE      N       N          Y  "
      ]
     },
     "execution_count": 105,
     "metadata": {},
     "output_type": "execute_result"
    }
   ],
   "source": [
    "import pandas as pd\n",
    "CU= pd.read_csv(r\"C:\\Users\\chyj2\\OneDrive\\Datasets For employment\\Daily_Inmates.csv\")\n",
    "did.sample(10)"
   ]
  },
  {
   "cell_type": "code",
   "execution_count": null,
   "id": "17622d7b-04fa-475e-b835-8706c8c32705",
   "metadata": {
    "jupyter": {
     "source_hidden": true
    },
    "tags": []
   },
   "outputs": [],
   "source": []
  },
  {
   "cell_type": "code",
   "execution_count": 106,
   "id": "02055ebc-c6e5-4765-a00a-df0f14b4d860",
   "metadata": {
    "tags": []
   },
   "outputs": [
    {
     "data": {
      "text/plain": [
       "INMATEID                int64\n",
       "ADMITTED_DT            object\n",
       "DISCHARGED_DT         float64\n",
       "CUSTODY_LEVEL          object\n",
       "BRADH                  object\n",
       "RACE                   object\n",
       "GENDER                 object\n",
       "AGE                   float64\n",
       "INMATE_STATUS_CODE     object\n",
       "SEALED                 object\n",
       "SRG_FLG                object\n",
       "TOP_CHARGE             object\n",
       "INFRACTION             object\n",
       "dtype: object"
      ]
     },
     "execution_count": 106,
     "metadata": {},
     "output_type": "execute_result"
    }
   ],
   "source": [
    "CU.dtypes"
   ]
  },
  {
   "cell_type": "markdown",
   "id": "d786b612-fe33-4203-8749-e1d04e16481f",
   "metadata": {},
   "source": []
  },
  {
   "cell_type": "code",
   "execution_count": 107,
   "id": "70d3bb39-7422-4f4f-b3ae-e9767cefc1ad",
   "metadata": {
    "tags": []
   },
   "outputs": [
    {
     "name": "stdout",
     "output_type": "stream",
     "text": [
      "<class 'pandas.core.frame.DataFrame'>\n",
      "RangeIndex: 7622 entries, 0 to 7621\n",
      "Data columns (total 13 columns):\n",
      " #   Column              Non-Null Count  Dtype  \n",
      "---  ------              --------------  -----  \n",
      " 0   INMATEID            7622 non-null   int64  \n",
      " 1   ADMITTED_DT         7622 non-null   object \n",
      " 2   DISCHARGED_DT       0 non-null      float64\n",
      " 3   CUSTODY_LEVEL       7565 non-null   object \n",
      " 4   BRADH               7622 non-null   object \n",
      " 5   RACE                7606 non-null   object \n",
      " 6   GENDER              7606 non-null   object \n",
      " 7   AGE                 7621 non-null   float64\n",
      " 8   INMATE_STATUS_CODE  7622 non-null   object \n",
      " 9   SEALED              7622 non-null   object \n",
      " 10  SRG_FLG             7622 non-null   object \n",
      " 11  TOP_CHARGE          6595 non-null   object \n",
      " 12  INFRACTION          7622 non-null   object \n",
      "dtypes: float64(2), int64(1), object(10)\n",
      "memory usage: 774.2+ KB\n"
     ]
    }
   ],
   "source": [
    "CU.info()"
   ]
  },
  {
   "cell_type": "code",
   "execution_count": 109,
   "id": "4592dc60-54c2-401f-9e8a-6d6132d5ca7d",
   "metadata": {
    "tags": []
   },
   "outputs": [],
   "source": [
    "# Quick examples of extracting day, month, and year from datetime\n",
    "\n",
    "# Example 1: Using dt accessor to extract day               \n",
    "CU[\"ADMITTED_DT\"]= pd.to_datetime(CU[ \"ADMITTED_DT\"])\n",
    "CU['DayOfMonth']=CU[\"ADMITTED_DT\"].dt.day\n",
    "\n",
    "# Example 2: Using dt accessor to extract month                  \n",
    "CU[\"ADMITTED_DT\"]= pd.to_datetime(CU[ \"ADMITTED_DT\"])\n",
    "CU['Month']=CU[ \"ADMITTED_DT\"].dt.month\n",
    "\n",
    "# Example 3: Using dt accessor to extract year                     \n",
    "CU[\"ADMITTED_DT\"]= pd.to_datetime(CU[ \"ADMITTED_DT\"])\n",
    "CU['Year']=CU[ \"ADMITTED_DT\"].dt.year\n",
    "\n",
    "CU['hour']=CU[ \"ADMITTED_DT\"].dt.hour\n",
    "\n",
    "CU['minute']=CU[ \"ADMITTED_DT\"].dt.minute\n"
   ]
  },
  {
   "cell_type": "code",
   "execution_count": 125,
   "id": "a28d2868-67cc-48ca-ba26-28b60979cfd4",
   "metadata": {
    "tags": []
   },
   "outputs": [
    {
     "data": {
      "text/html": [
       "<div>\n",
       "<style scoped>\n",
       "    .dataframe tbody tr th:only-of-type {\n",
       "        vertical-align: middle;\n",
       "    }\n",
       "\n",
       "    .dataframe tbody tr th {\n",
       "        vertical-align: top;\n",
       "    }\n",
       "\n",
       "    .dataframe thead th {\n",
       "        text-align: right;\n",
       "    }\n",
       "</style>\n",
       "<table border=\"1\" class=\"dataframe\">\n",
       "  <thead>\n",
       "    <tr style=\"text-align: right;\">\n",
       "      <th></th>\n",
       "      <th>INMATEID</th>\n",
       "      <th>ADMITTED_DT</th>\n",
       "      <th>DISCHARGED_DT</th>\n",
       "      <th>CUSTODY_LEVEL</th>\n",
       "      <th>BRADH</th>\n",
       "      <th>RACE</th>\n",
       "      <th>GENDER</th>\n",
       "      <th>AGE</th>\n",
       "      <th>INMATE_STATUS_CODE</th>\n",
       "      <th>SEALED</th>\n",
       "      <th>SRG_FLG</th>\n",
       "      <th>TOP_CHARGE</th>\n",
       "      <th>INFRACTION</th>\n",
       "      <th>DayOfMonth</th>\n",
       "      <th>Month</th>\n",
       "      <th>Year</th>\n",
       "      <th>hour</th>\n",
       "      <th>minute</th>\n",
       "    </tr>\n",
       "  </thead>\n",
       "  <tbody>\n",
       "    <tr>\n",
       "      <th>0</th>\n",
       "      <td>20120048</td>\n",
       "      <td>2025-03-26 20:02:00</td>\n",
       "      <td>NaN</td>\n",
       "      <td>MAX</td>\n",
       "      <td>Y</td>\n",
       "      <td>B</td>\n",
       "      <td>F</td>\n",
       "      <td>29.0</td>\n",
       "      <td>DE</td>\n",
       "      <td>N</td>\n",
       "      <td>Y</td>\n",
       "      <td>120.05</td>\n",
       "      <td>Y</td>\n",
       "      <td>26</td>\n",
       "      <td>3</td>\n",
       "      <td>2025</td>\n",
       "      <td>20</td>\n",
       "      <td>2</td>\n",
       "    </tr>\n",
       "    <tr>\n",
       "      <th>1</th>\n",
       "      <td>20243990</td>\n",
       "      <td>2025-06-09 16:59:00</td>\n",
       "      <td>NaN</td>\n",
       "      <td>MED</td>\n",
       "      <td>Y</td>\n",
       "      <td>B</td>\n",
       "      <td>M</td>\n",
       "      <td>20.0</td>\n",
       "      <td>DE</td>\n",
       "      <td>N</td>\n",
       "      <td>N</td>\n",
       "      <td>125.25</td>\n",
       "      <td>N</td>\n",
       "      <td>9</td>\n",
       "      <td>6</td>\n",
       "      <td>2025</td>\n",
       "      <td>16</td>\n",
       "      <td>59</td>\n",
       "    </tr>\n",
       "    <tr>\n",
       "      <th>2</th>\n",
       "      <td>20215227</td>\n",
       "      <td>2021-08-06 22:20:00</td>\n",
       "      <td>NaN</td>\n",
       "      <td>MED</td>\n",
       "      <td>N</td>\n",
       "      <td>W</td>\n",
       "      <td>M</td>\n",
       "      <td>47.0</td>\n",
       "      <td>DE</td>\n",
       "      <td>N</td>\n",
       "      <td>N</td>\n",
       "      <td>125.25</td>\n",
       "      <td>N</td>\n",
       "      <td>6</td>\n",
       "      <td>8</td>\n",
       "      <td>2021</td>\n",
       "      <td>22</td>\n",
       "      <td>20</td>\n",
       "    </tr>\n",
       "    <tr>\n",
       "      <th>3</th>\n",
       "      <td>20243691</td>\n",
       "      <td>2025-05-25 15:35:00</td>\n",
       "      <td>NaN</td>\n",
       "      <td>MIN</td>\n",
       "      <td>N</td>\n",
       "      <td>O</td>\n",
       "      <td>M</td>\n",
       "      <td>29.0</td>\n",
       "      <td>DE</td>\n",
       "      <td>N</td>\n",
       "      <td>N</td>\n",
       "      <td>130.52</td>\n",
       "      <td>N</td>\n",
       "      <td>25</td>\n",
       "      <td>5</td>\n",
       "      <td>2025</td>\n",
       "      <td>15</td>\n",
       "      <td>35</td>\n",
       "    </tr>\n",
       "    <tr>\n",
       "      <th>4</th>\n",
       "      <td>115276</td>\n",
       "      <td>2025-02-22 11:23:00</td>\n",
       "      <td>NaN</td>\n",
       "      <td>MED</td>\n",
       "      <td>N</td>\n",
       "      <td>W</td>\n",
       "      <td>M</td>\n",
       "      <td>42.0</td>\n",
       "      <td>DE</td>\n",
       "      <td>N</td>\n",
       "      <td>N</td>\n",
       "      <td>160.15</td>\n",
       "      <td>N</td>\n",
       "      <td>22</td>\n",
       "      <td>2</td>\n",
       "      <td>2025</td>\n",
       "      <td>11</td>\n",
       "      <td>23</td>\n",
       "    </tr>\n",
       "    <tr>\n",
       "      <th>...</th>\n",
       "      <td>...</td>\n",
       "      <td>...</td>\n",
       "      <td>...</td>\n",
       "      <td>...</td>\n",
       "      <td>...</td>\n",
       "      <td>...</td>\n",
       "      <td>...</td>\n",
       "      <td>...</td>\n",
       "      <td>...</td>\n",
       "      <td>...</td>\n",
       "      <td>...</td>\n",
       "      <td>...</td>\n",
       "      <td>...</td>\n",
       "      <td>...</td>\n",
       "      <td>...</td>\n",
       "      <td>...</td>\n",
       "      <td>...</td>\n",
       "      <td>...</td>\n",
       "    </tr>\n",
       "    <tr>\n",
       "      <th>7617</th>\n",
       "      <td>10002532</td>\n",
       "      <td>2025-07-08 14:53:00</td>\n",
       "      <td>NaN</td>\n",
       "      <td>MED</td>\n",
       "      <td>N</td>\n",
       "      <td>B</td>\n",
       "      <td>M</td>\n",
       "      <td>39.0</td>\n",
       "      <td>DE</td>\n",
       "      <td>N</td>\n",
       "      <td>N</td>\n",
       "      <td>120.05</td>\n",
       "      <td>N</td>\n",
       "      <td>8</td>\n",
       "      <td>7</td>\n",
       "      <td>2025</td>\n",
       "      <td>14</td>\n",
       "      <td>53</td>\n",
       "    </tr>\n",
       "    <tr>\n",
       "      <th>7618</th>\n",
       "      <td>20244573</td>\n",
       "      <td>2025-07-08 16:45:00</td>\n",
       "      <td>NaN</td>\n",
       "      <td>MIN</td>\n",
       "      <td>N</td>\n",
       "      <td>B</td>\n",
       "      <td>F</td>\n",
       "      <td>56.0</td>\n",
       "      <td>DE</td>\n",
       "      <td>N</td>\n",
       "      <td>N</td>\n",
       "      <td>140.15</td>\n",
       "      <td>N</td>\n",
       "      <td>8</td>\n",
       "      <td>7</td>\n",
       "      <td>2025</td>\n",
       "      <td>16</td>\n",
       "      <td>45</td>\n",
       "    </tr>\n",
       "    <tr>\n",
       "      <th>7619</th>\n",
       "      <td>137578</td>\n",
       "      <td>2025-05-30 00:22:00</td>\n",
       "      <td>NaN</td>\n",
       "      <td>MED</td>\n",
       "      <td>Y</td>\n",
       "      <td>W</td>\n",
       "      <td>M</td>\n",
       "      <td>53.0</td>\n",
       "      <td>DE</td>\n",
       "      <td>N</td>\n",
       "      <td>N</td>\n",
       "      <td>140.25</td>\n",
       "      <td>N</td>\n",
       "      <td>30</td>\n",
       "      <td>5</td>\n",
       "      <td>2025</td>\n",
       "      <td>0</td>\n",
       "      <td>22</td>\n",
       "    </tr>\n",
       "    <tr>\n",
       "      <th>7620</th>\n",
       "      <td>75108</td>\n",
       "      <td>2025-06-03 15:55:00</td>\n",
       "      <td>NaN</td>\n",
       "      <td>MED</td>\n",
       "      <td>Y</td>\n",
       "      <td>O</td>\n",
       "      <td>M</td>\n",
       "      <td>37.0</td>\n",
       "      <td>CS</td>\n",
       "      <td>N</td>\n",
       "      <td>Y</td>\n",
       "      <td>220.03</td>\n",
       "      <td>N</td>\n",
       "      <td>3</td>\n",
       "      <td>6</td>\n",
       "      <td>2025</td>\n",
       "      <td>15</td>\n",
       "      <td>55</td>\n",
       "    </tr>\n",
       "    <tr>\n",
       "      <th>7621</th>\n",
       "      <td>74680</td>\n",
       "      <td>2025-06-09 18:48:00</td>\n",
       "      <td>NaN</td>\n",
       "      <td>MED</td>\n",
       "      <td>N</td>\n",
       "      <td>B</td>\n",
       "      <td>M</td>\n",
       "      <td>42.0</td>\n",
       "      <td>DE</td>\n",
       "      <td>N</td>\n",
       "      <td>N</td>\n",
       "      <td>110-125.25</td>\n",
       "      <td>N</td>\n",
       "      <td>9</td>\n",
       "      <td>6</td>\n",
       "      <td>2025</td>\n",
       "      <td>18</td>\n",
       "      <td>48</td>\n",
       "    </tr>\n",
       "  </tbody>\n",
       "</table>\n",
       "<p>7622 rows × 18 columns</p>\n",
       "</div>"
      ],
      "text/plain": [
       "      INMATEID         ADMITTED_DT  DISCHARGED_DT CUSTODY_LEVEL BRADH RACE  \\\n",
       "0     20120048 2025-03-26 20:02:00            NaN           MAX     Y    B   \n",
       "1     20243990 2025-06-09 16:59:00            NaN           MED     Y    B   \n",
       "2     20215227 2021-08-06 22:20:00            NaN           MED     N    W   \n",
       "3     20243691 2025-05-25 15:35:00            NaN           MIN     N    O   \n",
       "4       115276 2025-02-22 11:23:00            NaN           MED     N    W   \n",
       "...        ...                 ...            ...           ...   ...  ...   \n",
       "7617  10002532 2025-07-08 14:53:00            NaN           MED     N    B   \n",
       "7618  20244573 2025-07-08 16:45:00            NaN           MIN     N    B   \n",
       "7619    137578 2025-05-30 00:22:00            NaN           MED     Y    W   \n",
       "7620     75108 2025-06-03 15:55:00            NaN           MED     Y    O   \n",
       "7621     74680 2025-06-09 18:48:00            NaN           MED     N    B   \n",
       "\n",
       "     GENDER   AGE INMATE_STATUS_CODE SEALED SRG_FLG  TOP_CHARGE INFRACTION  \\\n",
       "0         F  29.0                 DE      N       Y      120.05          Y   \n",
       "1         M  20.0                 DE      N       N      125.25          N   \n",
       "2         M  47.0                 DE      N       N      125.25          N   \n",
       "3         M  29.0                 DE      N       N      130.52          N   \n",
       "4         M  42.0                 DE      N       N      160.15          N   \n",
       "...     ...   ...                ...    ...     ...         ...        ...   \n",
       "7617      M  39.0                 DE      N       N      120.05          N   \n",
       "7618      F  56.0                 DE      N       N      140.15          N   \n",
       "7619      M  53.0                 DE      N       N      140.25          N   \n",
       "7620      M  37.0                 CS      N       Y      220.03          N   \n",
       "7621      M  42.0                 DE      N       N  110-125.25          N   \n",
       "\n",
       "      DayOfMonth  Month  Year  hour  minute  \n",
       "0             26      3  2025    20       2  \n",
       "1              9      6  2025    16      59  \n",
       "2              6      8  2021    22      20  \n",
       "3             25      5  2025    15      35  \n",
       "4             22      2  2025    11      23  \n",
       "...          ...    ...   ...   ...     ...  \n",
       "7617           8      7  2025    14      53  \n",
       "7618           8      7  2025    16      45  \n",
       "7619          30      5  2025     0      22  \n",
       "7620           3      6  2025    15      55  \n",
       "7621           9      6  2025    18      48  \n",
       "\n",
       "[7622 rows x 18 columns]"
      ]
     },
     "execution_count": 125,
     "metadata": {},
     "output_type": "execute_result"
    }
   ],
   "source": [
    "CU"
   ]
  },
  {
   "cell_type": "code",
   "execution_count": null,
   "id": "042d4ace-d47a-4555-a2d8-919aee5f464a",
   "metadata": {},
   "outputs": [],
   "source": []
  },
  {
   "cell_type": "code",
   "execution_count": null,
   "id": "ee2c91ef-68c5-4c7d-9315-c9e2daabf586",
   "metadata": {},
   "outputs": [],
   "source": []
  },
  {
   "cell_type": "code",
   "execution_count": 131,
   "id": "7640d113-37fa-4d2d-882b-3f8e45d8cb5b",
   "metadata": {
    "tags": []
   },
   "outputs": [
    {
     "name": "stdout",
     "output_type": "stream",
     "text": [
      "<class 'pandas.core.frame.DataFrame'>\n",
      "RangeIndex: 7622 entries, 0 to 7621\n",
      "Data columns (total 18 columns):\n",
      " #   Column              Non-Null Count  Dtype         \n",
      "---  ------              --------------  -----         \n",
      " 0   INMATEID            7622 non-null   int64         \n",
      " 1   ADMITTED_DT         7622 non-null   datetime64[ns]\n",
      " 2   DISCHARGED_DT       0 non-null      float64       \n",
      " 3   CUSTODY_LEVEL       7565 non-null   object        \n",
      " 4   BRADH               7622 non-null   object        \n",
      " 5   RACE                7606 non-null   object        \n",
      " 6   GENDER              7606 non-null   object        \n",
      " 7   AGE                 7621 non-null   float64       \n",
      " 8   INMATE_STATUS_CODE  7622 non-null   object        \n",
      " 9   SEALED              7622 non-null   object        \n",
      " 10  SRG_FLG             7622 non-null   object        \n",
      " 11  TOP_CHARGE          6595 non-null   object        \n",
      " 12  INFRACTION          7622 non-null   object        \n",
      " 13  DayOfMonth          7622 non-null   int32         \n",
      " 14  Month               7622 non-null   int32         \n",
      " 15  Year                7622 non-null   int32         \n",
      " 16  hour                7622 non-null   int32         \n",
      " 17  minute              7622 non-null   int32         \n",
      "dtypes: datetime64[ns](1), float64(2), int32(5), int64(1), object(9)\n",
      "memory usage: 923.1+ KB\n"
     ]
    }
   ],
   "source": [
    "CU.info()\n"
   ]
  },
  {
   "cell_type": "code",
   "execution_count": 134,
   "id": "c57d58ac-b790-4112-82ef-17b8c76d3f26",
   "metadata": {
    "tags": []
   },
   "outputs": [
    {
     "ename": "KeyError",
     "evalue": "\"['DISCHARGED_DT', 'TOP_CHARGE', 'INMATEID'] not found in axis\"",
     "output_type": "error",
     "traceback": [
      "\u001b[1;31m---------------------------------------------------------------------------\u001b[0m",
      "\u001b[1;31mKeyError\u001b[0m                                  Traceback (most recent call last)",
      "Cell \u001b[1;32mIn[134], line 2\u001b[0m\n\u001b[0;32m      1\u001b[0m \u001b[38;5;66;03m# DROP IRRELEVANT COLUMNS\u001b[39;00m\n\u001b[1;32m----> 2\u001b[0m CU \u001b[38;5;241m=\u001b[39m \u001b[43mDID\u001b[49m\u001b[38;5;241;43m.\u001b[39;49m\u001b[43mdrop\u001b[49m\u001b[43m(\u001b[49m\u001b[43m[\u001b[49m\u001b[38;5;124;43m'\u001b[39;49m\u001b[38;5;124;43mDISCHARGED_DT\u001b[39;49m\u001b[38;5;124;43m'\u001b[39;49m\u001b[43m,\u001b[49m\u001b[38;5;124;43m'\u001b[39;49m\u001b[38;5;124;43mTOP_CHARGE\u001b[39;49m\u001b[38;5;124;43m'\u001b[39;49m\u001b[43m,\u001b[49m\u001b[43m \u001b[49m\u001b[38;5;124;43m'\u001b[39;49m\u001b[38;5;124;43mINMATEID\u001b[39;49m\u001b[38;5;124;43m'\u001b[39;49m\u001b[43m,\u001b[49m\u001b[43m \u001b[49m\u001b[38;5;124;43m'\u001b[39;49m\u001b[38;5;124;43mADMITTED_DT\u001b[39;49m\u001b[38;5;124;43m'\u001b[39;49m\u001b[43m]\u001b[49m\u001b[43m,\u001b[49m\u001b[43maxis\u001b[49m\u001b[38;5;241;43m=\u001b[39;49m\u001b[38;5;241;43m1\u001b[39;49m\u001b[43m)\u001b[49m\n",
      "File \u001b[1;32m~\\anaconda3\\lib\\site-packages\\pandas\\core\\frame.py:5347\u001b[0m, in \u001b[0;36mDataFrame.drop\u001b[1;34m(self, labels, axis, index, columns, level, inplace, errors)\u001b[0m\n\u001b[0;32m   5199\u001b[0m \u001b[38;5;28;01mdef\u001b[39;00m \u001b[38;5;21mdrop\u001b[39m(\n\u001b[0;32m   5200\u001b[0m     \u001b[38;5;28mself\u001b[39m,\n\u001b[0;32m   5201\u001b[0m     labels: IndexLabel \u001b[38;5;241m|\u001b[39m \u001b[38;5;28;01mNone\u001b[39;00m \u001b[38;5;241m=\u001b[39m \u001b[38;5;28;01mNone\u001b[39;00m,\n\u001b[1;32m   (...)\u001b[0m\n\u001b[0;32m   5208\u001b[0m     errors: IgnoreRaise \u001b[38;5;241m=\u001b[39m \u001b[38;5;124m\"\u001b[39m\u001b[38;5;124mraise\u001b[39m\u001b[38;5;124m\"\u001b[39m,\n\u001b[0;32m   5209\u001b[0m ) \u001b[38;5;241m-\u001b[39m\u001b[38;5;241m>\u001b[39m DataFrame \u001b[38;5;241m|\u001b[39m \u001b[38;5;28;01mNone\u001b[39;00m:\n\u001b[0;32m   5210\u001b[0m \u001b[38;5;250m    \u001b[39m\u001b[38;5;124;03m\"\"\"\u001b[39;00m\n\u001b[0;32m   5211\u001b[0m \u001b[38;5;124;03m    Drop specified labels from rows or columns.\u001b[39;00m\n\u001b[0;32m   5212\u001b[0m \n\u001b[1;32m   (...)\u001b[0m\n\u001b[0;32m   5345\u001b[0m \u001b[38;5;124;03m            weight  1.0     0.8\u001b[39;00m\n\u001b[0;32m   5346\u001b[0m \u001b[38;5;124;03m    \"\"\"\u001b[39;00m\n\u001b[1;32m-> 5347\u001b[0m     \u001b[38;5;28;01mreturn\u001b[39;00m \u001b[38;5;28;43msuper\u001b[39;49m\u001b[43m(\u001b[49m\u001b[43m)\u001b[49m\u001b[38;5;241;43m.\u001b[39;49m\u001b[43mdrop\u001b[49m\u001b[43m(\u001b[49m\n\u001b[0;32m   5348\u001b[0m \u001b[43m        \u001b[49m\u001b[43mlabels\u001b[49m\u001b[38;5;241;43m=\u001b[39;49m\u001b[43mlabels\u001b[49m\u001b[43m,\u001b[49m\n\u001b[0;32m   5349\u001b[0m \u001b[43m        \u001b[49m\u001b[43maxis\u001b[49m\u001b[38;5;241;43m=\u001b[39;49m\u001b[43maxis\u001b[49m\u001b[43m,\u001b[49m\n\u001b[0;32m   5350\u001b[0m \u001b[43m        \u001b[49m\u001b[43mindex\u001b[49m\u001b[38;5;241;43m=\u001b[39;49m\u001b[43mindex\u001b[49m\u001b[43m,\u001b[49m\n\u001b[0;32m   5351\u001b[0m \u001b[43m        \u001b[49m\u001b[43mcolumns\u001b[49m\u001b[38;5;241;43m=\u001b[39;49m\u001b[43mcolumns\u001b[49m\u001b[43m,\u001b[49m\n\u001b[0;32m   5352\u001b[0m \u001b[43m        \u001b[49m\u001b[43mlevel\u001b[49m\u001b[38;5;241;43m=\u001b[39;49m\u001b[43mlevel\u001b[49m\u001b[43m,\u001b[49m\n\u001b[0;32m   5353\u001b[0m \u001b[43m        \u001b[49m\u001b[43minplace\u001b[49m\u001b[38;5;241;43m=\u001b[39;49m\u001b[43minplace\u001b[49m\u001b[43m,\u001b[49m\n\u001b[0;32m   5354\u001b[0m \u001b[43m        \u001b[49m\u001b[43merrors\u001b[49m\u001b[38;5;241;43m=\u001b[39;49m\u001b[43merrors\u001b[49m\u001b[43m,\u001b[49m\n\u001b[0;32m   5355\u001b[0m \u001b[43m    \u001b[49m\u001b[43m)\u001b[49m\n",
      "File \u001b[1;32m~\\anaconda3\\lib\\site-packages\\pandas\\core\\generic.py:4711\u001b[0m, in \u001b[0;36mNDFrame.drop\u001b[1;34m(self, labels, axis, index, columns, level, inplace, errors)\u001b[0m\n\u001b[0;32m   4709\u001b[0m \u001b[38;5;28;01mfor\u001b[39;00m axis, labels \u001b[38;5;129;01min\u001b[39;00m axes\u001b[38;5;241m.\u001b[39mitems():\n\u001b[0;32m   4710\u001b[0m     \u001b[38;5;28;01mif\u001b[39;00m labels \u001b[38;5;129;01mis\u001b[39;00m \u001b[38;5;129;01mnot\u001b[39;00m \u001b[38;5;28;01mNone\u001b[39;00m:\n\u001b[1;32m-> 4711\u001b[0m         obj \u001b[38;5;241m=\u001b[39m \u001b[43mobj\u001b[49m\u001b[38;5;241;43m.\u001b[39;49m\u001b[43m_drop_axis\u001b[49m\u001b[43m(\u001b[49m\u001b[43mlabels\u001b[49m\u001b[43m,\u001b[49m\u001b[43m \u001b[49m\u001b[43maxis\u001b[49m\u001b[43m,\u001b[49m\u001b[43m \u001b[49m\u001b[43mlevel\u001b[49m\u001b[38;5;241;43m=\u001b[39;49m\u001b[43mlevel\u001b[49m\u001b[43m,\u001b[49m\u001b[43m \u001b[49m\u001b[43merrors\u001b[49m\u001b[38;5;241;43m=\u001b[39;49m\u001b[43merrors\u001b[49m\u001b[43m)\u001b[49m\n\u001b[0;32m   4713\u001b[0m \u001b[38;5;28;01mif\u001b[39;00m inplace:\n\u001b[0;32m   4714\u001b[0m     \u001b[38;5;28mself\u001b[39m\u001b[38;5;241m.\u001b[39m_update_inplace(obj)\n",
      "File \u001b[1;32m~\\anaconda3\\lib\\site-packages\\pandas\\core\\generic.py:4753\u001b[0m, in \u001b[0;36mNDFrame._drop_axis\u001b[1;34m(self, labels, axis, level, errors, only_slice)\u001b[0m\n\u001b[0;32m   4751\u001b[0m         new_axis \u001b[38;5;241m=\u001b[39m axis\u001b[38;5;241m.\u001b[39mdrop(labels, level\u001b[38;5;241m=\u001b[39mlevel, errors\u001b[38;5;241m=\u001b[39merrors)\n\u001b[0;32m   4752\u001b[0m     \u001b[38;5;28;01melse\u001b[39;00m:\n\u001b[1;32m-> 4753\u001b[0m         new_axis \u001b[38;5;241m=\u001b[39m \u001b[43maxis\u001b[49m\u001b[38;5;241;43m.\u001b[39;49m\u001b[43mdrop\u001b[49m\u001b[43m(\u001b[49m\u001b[43mlabels\u001b[49m\u001b[43m,\u001b[49m\u001b[43m \u001b[49m\u001b[43merrors\u001b[49m\u001b[38;5;241;43m=\u001b[39;49m\u001b[43merrors\u001b[49m\u001b[43m)\u001b[49m\n\u001b[0;32m   4754\u001b[0m     indexer \u001b[38;5;241m=\u001b[39m axis\u001b[38;5;241m.\u001b[39mget_indexer(new_axis)\n\u001b[0;32m   4756\u001b[0m \u001b[38;5;66;03m# Case for non-unique axis\u001b[39;00m\n\u001b[0;32m   4757\u001b[0m \u001b[38;5;28;01melse\u001b[39;00m:\n",
      "File \u001b[1;32m~\\anaconda3\\lib\\site-packages\\pandas\\core\\indexes\\base.py:6992\u001b[0m, in \u001b[0;36mIndex.drop\u001b[1;34m(self, labels, errors)\u001b[0m\n\u001b[0;32m   6990\u001b[0m \u001b[38;5;28;01mif\u001b[39;00m mask\u001b[38;5;241m.\u001b[39many():\n\u001b[0;32m   6991\u001b[0m     \u001b[38;5;28;01mif\u001b[39;00m errors \u001b[38;5;241m!=\u001b[39m \u001b[38;5;124m\"\u001b[39m\u001b[38;5;124mignore\u001b[39m\u001b[38;5;124m\"\u001b[39m:\n\u001b[1;32m-> 6992\u001b[0m         \u001b[38;5;28;01mraise\u001b[39;00m \u001b[38;5;167;01mKeyError\u001b[39;00m(\u001b[38;5;124mf\u001b[39m\u001b[38;5;124m\"\u001b[39m\u001b[38;5;132;01m{\u001b[39;00mlabels[mask]\u001b[38;5;241m.\u001b[39mtolist()\u001b[38;5;132;01m}\u001b[39;00m\u001b[38;5;124m not found in axis\u001b[39m\u001b[38;5;124m\"\u001b[39m)\n\u001b[0;32m   6993\u001b[0m     indexer \u001b[38;5;241m=\u001b[39m indexer[\u001b[38;5;241m~\u001b[39mmask]\n\u001b[0;32m   6994\u001b[0m \u001b[38;5;28;01mreturn\u001b[39;00m \u001b[38;5;28mself\u001b[39m\u001b[38;5;241m.\u001b[39mdelete(indexer)\n",
      "\u001b[1;31mKeyError\u001b[0m: \"['DISCHARGED_DT', 'TOP_CHARGE', 'INMATEID'] not found in axis\""
     ]
    }
   ],
   "source": [
    "# DROP IRRELEVANT COLUMNS\n",
    "CU = DID.drop(['DISCHARGED_DT','TOP_CHARGE', 'INMATEID', 'ADMITTED_DT'],axis=1)\n"
   ]
  },
  {
   "cell_type": "code",
   "execution_count": 135,
   "id": "5e79e1ff-994b-4559-aeac-edbe6632cb2e",
   "metadata": {
    "tags": []
   },
   "outputs": [
    {
     "name": "stdout",
     "output_type": "stream",
     "text": [
      "<class 'pandas.core.frame.DataFrame'>\n",
      "RangeIndex: 7622 entries, 0 to 7621\n",
      "Data columns (total 18 columns):\n",
      " #   Column              Non-Null Count  Dtype         \n",
      "---  ------              --------------  -----         \n",
      " 0   INMATEID            7622 non-null   int64         \n",
      " 1   ADMITTED_DT         7622 non-null   datetime64[ns]\n",
      " 2   DISCHARGED_DT       0 non-null      float64       \n",
      " 3   CUSTODY_LEVEL       7565 non-null   object        \n",
      " 4   BRADH               7622 non-null   object        \n",
      " 5   RACE                7606 non-null   object        \n",
      " 6   GENDER              7606 non-null   object        \n",
      " 7   AGE                 7621 non-null   float64       \n",
      " 8   INMATE_STATUS_CODE  7622 non-null   object        \n",
      " 9   SEALED              7622 non-null   object        \n",
      " 10  SRG_FLG             7622 non-null   object        \n",
      " 11  TOP_CHARGE          6595 non-null   object        \n",
      " 12  INFRACTION          7622 non-null   object        \n",
      " 13  DayOfMonth          7622 non-null   int32         \n",
      " 14  Month               7622 non-null   int32         \n",
      " 15  Year                7622 non-null   int32         \n",
      " 16  hour                7622 non-null   int32         \n",
      " 17  minute              7622 non-null   int32         \n",
      "dtypes: datetime64[ns](1), float64(2), int32(5), int64(1), object(9)\n",
      "memory usage: 923.1+ KB\n"
     ]
    }
   ],
   "source": [
    "CU.info()"
   ]
  },
  {
   "cell_type": "code",
   "execution_count": null,
   "id": "af541061-c770-479a-b261-5da192109bf3",
   "metadata": {},
   "outputs": [],
   "source": []
  },
  {
   "cell_type": "code",
   "execution_count": 136,
   "id": "3ab2cb29-f1cf-434f-95ce-18983b9fe0ee",
   "metadata": {
    "tags": []
   },
   "outputs": [
    {
     "data": {
      "image/png": "[encoded data removed]",
      "text/plain": [
       "<Figure size 1000x800 with 1 Axes>"
      ]
     },
     "metadata": {},
     "output_type": "display_data"
    }
   ],
   "source": [
    "plt.figure(figsize=(10,8))\n",
    "cols = [\"#A0522D\",\"#A52A2A\",\"#CD853F\",\"#F4A460\",\"#DEB887\"]\n",
    "ax = sns.violinplot(x=\"CUSTODY_LEVEL\",y=\"AGE\", data=CU, palette=cols,scale= \"count\")\n",
    "ax.set_title(\"AGE UNDER EACH LEVEL\", color=\"#774571\", fontsize = 20)\n",
    "ax.set_ylabel(\"AGE\", color=\"#4e4c39\", fontsize = 15)\n",
    "ax.set_xlabel(\"CUSTODY_LEVEL\", color=\"#4e4c39\", fontsize = 15)\n",
    "plt.show()"
   ]
  },
  {
   "cell_type": "code",
   "execution_count": 137,
   "id": "b9acddf0-213f-4a87-acc7-2291b5e6a9d2",
   "metadata": {
    "tags": []
   },
   "outputs": [
    {
     "data": {
      "text/plain": [
       "INMATEID                 0\n",
       "ADMITTED_DT              0\n",
       "DISCHARGED_DT         7622\n",
       "CUSTODY_LEVEL           57\n",
       "BRADH                    0\n",
       "RACE                    16\n",
       "GENDER                  16\n",
       "AGE                      1\n",
       "INMATE_STATUS_CODE       0\n",
       "SEALED                   0\n",
       "SRG_FLG                  0\n",
       "TOP_CHARGE            1027\n",
       "INFRACTION               0\n",
       "DayOfMonth               0\n",
       "Month                    0\n",
       "Year                     0\n",
       "hour                     0\n",
       "minute                   0\n",
       "dtype: int64"
      ]
     },
     "execution_count": 137,
     "metadata": {},
     "output_type": "execute_result"
    }
   ],
   "source": [
    "CU.isnull().sum()"
   ]
  },
  {
   "cell_type": "code",
   "execution_count": 138,
   "id": "d5fd61ae-df24-4dcd-9df7-423b99862230",
   "metadata": {
    "tags": []
   },
   "outputs": [
    {
     "name": "stdout",
     "output_type": "stream",
     "text": [
      "GENDER\n",
      "M    7161\n",
      "F     445\n",
      "Name: count, dtype: int64\n",
      "GENDER\n",
      "M    0.941494\n",
      "F    0.058506\n",
      "Name: proportion, dtype: float64\n"
     ]
    }
   ],
   "source": [
    "#which gender were under custody\n",
    "print(CU.GENDER.value_counts())\n",
    "\n",
    "print(CU.GENDER.value_counts(normalize=True))"
   ]
  },
  {
   "cell_type": "code",
   "execution_count": 139,
   "id": "e8c66c8f-2499-4c2f-bc9b-0aae45fa74aa",
   "metadata": {
    "tags": []
   },
   "outputs": [
    {
     "name": "stdout",
     "output_type": "stream",
     "text": [
      "RACE\n",
      "B    4401\n",
      "O    2376\n",
      "W     570\n",
      "A     179\n",
      "U      61\n",
      "I      19\n",
      "Name: count, dtype: int64\n",
      "RACE\n",
      "B    0.578622\n",
      "O    0.312385\n",
      "W    0.074941\n",
      "A    0.023534\n",
      "U    0.008020\n",
      "I    0.002498\n",
      "Name: proportion, dtype: float64\n"
     ]
    }
   ],
   "source": [
    "print(CU['RACE'].value_counts())\n",
    "\n",
    "print(CU['RACE'].value_counts(normalize=True))"
   ]
  },
  {
   "cell_type": "code",
   "execution_count": 140,
   "id": "97447821-3a27-426d-86ea-52fc38715dea",
   "metadata": {
    "tags": []
   },
   "outputs": [
    {
     "data": {
      "text/plain": [
       "Text(0.5, 1.0, 'Men & Women Distribution (RACE = B)')"
      ]
     },
     "execution_count": 140,
     "metadata": {},
     "output_type": "execute_result"
    },
    {
     "data": {
      "image/png": "[encoded data removed]",
      "text/plain": [
       "<Figure size 1200x600 with 2 Axes>"
      ]
     },
     "metadata": {},
     "output_type": "display_data"
    }
   ],
   "source": [
    "## Lets see which gender were more under custody and \n",
    "BLACK_RACE= CU[CU.RACE == 'B']\n",
    "\n",
    "fig = plt.figure(figsize=(12, 6))\n",
    "\n",
    "plt.subplot(121)\n",
    "sns.countplot(x='GENDER', data=CU)\n",
    "plt.title('Men & Women Distribution')\n",
    "\n",
    "plt.subplot(122)\n",
    "sns.countplot(x='GENDER', data=BLACK_RACE)\n",
    "plt.title('Men & Women Distribution (RACE = B)')"
   ]
  },
  {
   "cell_type": "code",
   "execution_count": null,
   "id": "af197c44-ccfe-4294-85ef-26dd5c7ae6a6",
   "metadata": {},
   "outputs": [],
   "source": []
  },
  {
   "cell_type": "code",
   "execution_count": 141,
   "id": "7e730c2d-a1cd-491d-9741-fb1e1db48c8e",
   "metadata": {
    "tags": []
   },
   "outputs": [
    {
     "data": {},
     "metadata": {},
     "output_type": "display_data"
    },
    {
     "data": {
      "application/vnd.holoviews_exec.v0+json": "",
      "text/html": [
       "<div id='2661'>\n",
       "  <div class=\"bk-root\" id=\"62563b21-9d0c-4de4-9ba9-eff71e10fce9\" data-root-id=\"2661\"></div>\n",
       "</div>\n",
       "<script type=\"application/javascript\">(function(root) {\n",
       "  function embed_document(root) {\n",
       "    var docs_json = {\"a787d235-14b6-4a1e-a5c0-0c97548970e4\":{\"defs\":[{\"extends\":null,\"module\":null,\"name\":\"ReactiveHTML1\",\"overrides\":[],\"properties\":[]},{\"extends\":null,\"module\":null,\"name\":\"FlexBox1\",\"overrides\":[],\"properties\":[{\"default\":\"flex-start\",\"kind\":null,\"name\":\"align_content\"},{\"default\":\"flex-start\",\"kind\":null,\"name\":\"align_items\"},{\"default\":\"row\",\"kind\":null,\"name\":\"flex_direction\"},{\"default\":\"wrap\",\"kind\":null,\"name\":\"flex_wrap\"},{\"default\":\"flex-start\",\"kind\":null,\"name\":\"justify_content\"}]},{\"extends\":null,\"module\":null,\"name\":\"GridStack1\",\"overrides\":[],\"properties\":[{\"default\":\"warn\",\"kind\":null,\"name\":\"mode\"},{\"default\":null,\"kind\":null,\"name\":\"ncols\"},{\"default\":null,\"kind\":null,\"name\":\"nrows\"},{\"default\":true,\"kind\":null,\"name\":\"allow_resize\"},{\"default\":true,\"kind\":null,\"name\":\"allow_drag\"},{\"default\":[],\"kind\":null,\"name\":\"state\"}]},{\"extends\":null,\"module\":null,\"name\":\"click1\",\"overrides\":[],\"properties\":[{\"default\":\"\",\"kind\":null,\"name\":\"terminal_output\"},{\"default\":\"\",\"kind\":null,\"name\":\"debug_name\"},{\"default\":0,\"kind\":null,\"name\":\"clears\"}]},{\"extends\":null,\"module\":null,\"name\":\"NotificationAreaBase1\",\"overrides\":[],\"properties\":[{\"default\":\"bottom-right\",\"kind\":null,\"name\":\"position\"},{\"default\":0,\"kind\":null,\"name\":\"_clear\"}]},{\"extends\":null,\"module\":null,\"name\":\"NotificationArea1\",\"overrides\":[],\"properties\":[{\"default\":[],\"kind\":null,\"name\":\"notifications\"},{\"default\":\"bottom-right\",\"kind\":null,\"name\":\"position\"},{\"default\":0,\"kind\":null,\"name\":\"_clear\"},{\"default\":[{\"background\":\"#ffc107\",\"icon\":{\"className\":\"fas fa-exclamation-triangle\",\"color\":\"white\",\"tagName\":\"i\"},\"type\":\"warning\"},{\"background\":\"#007bff\",\"icon\":{\"className\":\"fas fa-info-circle\",\"color\":\"white\",\"tagName\":\"i\"},\"type\":\"info\"}],\"kind\":null,\"name\":\"types\"}]},{\"extends\":null,\"module\":null,\"name\":\"Notification\",\"overrides\":[],\"properties\":[{\"default\":null,\"kind\":null,\"name\":\"background\"},{\"default\":3000,\"kind\":null,\"name\":\"duration\"},{\"default\":null,\"kind\":null,\"name\":\"icon\"},{\"default\":\"\",\"kind\":null,\"name\":\"message\"},{\"default\":null,\"kind\":null,\"name\":\"notification_type\"},{\"default\":false,\"kind\":null,\"name\":\"_destroyed\"}]},{\"extends\":null,\"module\":null,\"name\":\"TemplateActions1\",\"overrides\":[],\"properties\":[{\"default\":0,\"kind\":null,\"name\":\"open_modal\"},{\"default\":0,\"kind\":null,\"name\":\"close_modal\"}]},{\"extends\":null,\"module\":null,\"name\":\"MaterialTemplateActions1\",\"overrides\":[],\"properties\":[{\"default\":0,\"kind\":null,\"name\":\"open_modal\"},{\"default\":0,\"kind\":null,\"name\":\"close_modal\"}]}],\"roots\":{\"references\":[{\"attributes\":{\"coordinates\":null,\"data_source\":{\"id\":\"2697\"},\"glyph\":{\"id\":\"2700\"},\"group\":null,\"hover_glyph\":null,\"muted_glyph\":{\"id\":\"2702\"},\"nonselection_glyph\":{\"id\":\"2701\"},\"selection_glyph\":{\"id\":\"2705\"},\"view\":{\"id\":\"2704\"}},\"id\":\"2703\",\"type\":\"GlyphRenderer\"},{\"attributes\":{},\"id\":\"2686\",\"type\":\"WheelZoomTool\"},{\"attributes\":{\"children\":[{\"id\":\"2662\"},{\"id\":\"2668\"},{\"id\":\"2726\"}],\"margin\":[0,0,0,0],\"name\":\"Row02729\",\"tags\":[\"embedded\"]},\"id\":\"2661\",\"type\":\"Row\"},{\"attributes\":{},\"id\":\"2685\",\"type\":\"PanTool\"},{\"attributes\":{\"overlay\":{\"id\":\"2689\"}},\"id\":\"2687\",\"type\":\"BoxZoomTool\"},{\"attributes\":{},\"id\":\"2688\",\"type\":\"ResetTool\"},{\"attributes\":{\"margin\":[5,5,5,5],\"name\":\"HSpacer02734\",\"sizing_mode\":\"stretch_width\"},\"id\":\"2726\",\"type\":\"Spacer\"},{\"attributes\":{\"bottom_units\":\"screen\",\"coordinates\":null,\"fill_alpha\":0.5,\"fill_color\":\"lightgrey\",\"group\":null,\"left_units\":\"screen\",\"level\":\"overlay\",\"line_alpha\":1.0,\"line_color\":\"black\",\"line_dash\":[4,4],\"line_width\":2,\"right_units\":\"screen\",\"syncable\":false,\"top_units\":\"screen\"},\"id\":\"2689\",\"type\":\"BoxAnnotation\"},{\"attributes\":{},\"id\":\"2711\",\"type\":\"AllLabels\"},{\"attributes\":{},\"id\":\"2676\",\"type\":\"LinearScale\"},{\"attributes\":{\"bottom\":{\"value\":0},\"fill_alpha\":{\"value\":1.0},\"fill_color\":{\"value\":\"#30a2da\"},\"hatch_alpha\":{\"value\":1.0},\"hatch_color\":{\"value\":\"#30a2da\"},\"hatch_scale\":{\"value\":12.0},\"hatch_weight\":{\"value\":1.0},\"line_alpha\":{\"value\":1.0},\"line_cap\":{\"value\":\"butt\"},\"line_color\":{\"value\":\"black\"},\"line_dash\":{\"value\":[]},\"line_dash_offset\":{\"value\":0},\"line_join\":{\"value\":\"bevel\"},\"line_width\":{\"value\":1},\"tags\":[\"apply_ranges\"],\"top\":{\"field\":\"count\"},\"width\":{\"value\":0.8},\"x\":{\"field\":\"GENDER\"}},\"id\":\"2705\",\"type\":\"VBar\"},{\"attributes\":{\"callback\":null,\"renderers\":[{\"id\":\"2703\"}],\"tags\":[\"hv_created\"],\"tooltips\":[[\"GENDER\",\"@{GENDER}\"],[\"count\",\"@{count}\"]]},\"id\":\"2667\",\"type\":\"HoverTool\"},{\"attributes\":{},\"id\":\"2698\",\"type\":\"Selection\"},{\"attributes\":{},\"id\":\"2707\",\"type\":\"CategoricalTickFormatter\"},{\"attributes\":{\"end\":4549.5,\"reset_end\":4549.5,\"reset_start\":0.0,\"tags\":[[[\"count\",\"count\",null]],{\"autorange\":false,\"invert_yaxis\":false}]},\"id\":\"2664\",\"type\":\"Range1d\"},{\"attributes\":{\"factors\":[\"M\",\"F\"],\"tags\":[[[\"GENDER\",\"GENDER\",null]],[]]},\"id\":\"2663\",\"type\":\"FactorRange\"},{\"attributes\":{\"active_drag\":{\"id\":\"2685\"},\"active_scroll\":{\"id\":\"2686\"},\"tools\":[{\"id\":\"2667\"},{\"id\":\"2684\"},{\"id\":\"2685\"},{\"id\":\"2686\"},{\"id\":\"2687\"},{\"id\":\"2688\"}]},\"id\":\"2690\",\"type\":\"Toolbar\"},{\"attributes\":{},\"id\":\"2678\",\"type\":\"CategoricalTicker\"},{\"attributes\":{\"below\":[{\"id\":\"2677\"}],\"center\":[{\"id\":\"2679\"},{\"id\":\"2683\"}],\"height\":350,\"left\":[{\"id\":\"2680\"}],\"margin\":[5,5,5,5],\"min_border_bottom\":10,\"min_border_left\":10,\"min_border_right\":10,\"min_border_top\":10,\"output_backend\":\"webgl\",\"renderers\":[{\"id\":\"2703\"}],\"sizing_mode\":\"fixed\",\"title\":{\"id\":\"2669\"},\"toolbar\":{\"id\":\"2690\"},\"width\":350,\"x_range\":{\"id\":\"2663\"},\"x_scale\":{\"id\":\"2675\"},\"y_range\":{\"id\":\"2664\"},\"y_scale\":{\"id\":\"2676\"}},\"id\":\"2668\",\"subtype\":\"Figure\",\"type\":\"Plot\"},{\"attributes\":{},\"id\":\"2708\",\"type\":\"AllLabels\"},{\"attributes\":{\"margin\":[5,5,5,5],\"name\":\"HSpacer02733\",\"sizing_mode\":\"stretch_width\"},\"id\":\"2662\",\"type\":\"Spacer\"},{\"attributes\":{\"coordinates\":null,\"group\":null,\"text\":\"count\",\"text_color\":\"black\",\"text_font_size\":\"12pt\"},\"id\":\"2669\",\"type\":\"Title\"},{\"attributes\":{\"fill_color\":{\"value\":\"#30a2da\"},\"hatch_color\":{\"value\":\"#30a2da\"},\"tags\":[\"apply_ranges\"],\"top\":{\"field\":\"count\"},\"width\":{\"value\":0.8},\"x\":{\"field\":\"GENDER\"}},\"id\":\"2700\",\"type\":\"VBar\"},{\"attributes\":{\"data\":{\"GENDER\":[\"M\",\"F\"],\"count\":[4158,243]},\"selected\":{\"id\":\"2698\"},\"selection_policy\":{\"id\":\"2723\"}},\"id\":\"2697\",\"type\":\"ColumnDataSource\"},{\"attributes\":{\"fill_alpha\":{\"value\":0.1},\"fill_color\":{\"value\":\"#30a2da\"},\"hatch_alpha\":{\"value\":0.1},\"hatch_color\":{\"value\":\"#30a2da\"},\"line_alpha\":{\"value\":0.1},\"tags\":[\"apply_ranges\"],\"top\":{\"field\":\"count\"},\"width\":{\"value\":0.8},\"x\":{\"field\":\"GENDER\"}},\"id\":\"2701\",\"type\":\"VBar\"},{\"attributes\":{\"source\":{\"id\":\"2697\"}},\"id\":\"2704\",\"type\":\"CDSView\"},{\"attributes\":{\"axis\":{\"id\":\"2677\"},\"coordinates\":null,\"grid_line_color\":null,\"group\":null,\"ticker\":null},\"id\":\"2679\",\"type\":\"Grid\"},{\"attributes\":{\"axis_label\":\"GENDER\",\"coordinates\":null,\"formatter\":{\"id\":\"2707\"},\"group\":null,\"major_label_policy\":{\"id\":\"2708\"},\"ticker\":{\"id\":\"2678\"}},\"id\":\"2677\",\"type\":\"CategoricalAxis\"},{\"attributes\":{},\"id\":\"2723\",\"type\":\"UnionRenderers\"},{\"attributes\":{},\"id\":\"2710\",\"type\":\"BasicTickFormatter\"},{\"attributes\":{\"axis_label\":\"\",\"coordinates\":null,\"formatter\":{\"id\":\"2710\"},\"group\":null,\"major_label_policy\":{\"id\":\"2711\"},\"ticker\":{\"id\":\"2681\"}},\"id\":\"2680\",\"type\":\"LinearAxis\"},{\"attributes\":{\"fill_alpha\":{\"value\":0.2},\"fill_color\":{\"value\":\"#30a2da\"},\"hatch_alpha\":{\"value\":0.2},\"hatch_color\":{\"value\":\"#30a2da\"},\"line_alpha\":{\"value\":0.2},\"tags\":[\"apply_ranges\"],\"top\":{\"field\":\"count\"},\"width\":{\"value\":0.8},\"x\":{\"field\":\"GENDER\"}},\"id\":\"2702\",\"type\":\"VBar\"},{\"attributes\":{\"axis\":{\"id\":\"2680\"},\"coordinates\":null,\"dimension\":1,\"grid_line_color\":null,\"group\":null,\"ticker\":null},\"id\":\"2683\",\"type\":\"Grid\"},{\"attributes\":{},\"id\":\"2681\",\"type\":\"BasicTicker\"},{\"attributes\":{},\"id\":\"2675\",\"type\":\"CategoricalScale\"},{\"attributes\":{},\"id\":\"2684\",\"type\":\"SaveTool\"}],\"root_ids\":[\"2661\"]},\"title\":\"Bokeh Application\",\"version\":\"2.4.3\"}};\n",
       "    var render_items = [{\"docid\":\"a787d235-14b6-4a1e-a5c0-0c97548970e4\",\"root_ids\":[\"2661\"],\"roots\":{\"2661\":\"62563b21-9d0c-4de4-9ba9-eff71e10fce9\"}}];\n",
       "    root.Bokeh.embed.embed_items_notebook(docs_json, render_items);\n",
       "    for (const render_item of render_items) {\n",
       "      for (const root_id of render_item.root_ids) {\n",
       "\tconst id_el = document.getElementById(root_id)\n",
       "\tif (id_el.children.length && (id_el.children[0].className === 'bk-root')) {\n",
       "\t  const root_el = id_el.children[0]\n",
       "\t  root_el.id = root_el.id + '-rendered'\n",
       "\t}\n",
       "      }\n",
       "    }\n",
       "  }\n",
       "  if (root.Bokeh !== undefined && root.Bokeh.Panel !== undefined) {\n",
       "    embed_document(root);\n",
       "  } else {\n",
       "    var attempts = 0;\n",
       "    var timer = setInterval(function(root) {\n",
       "      if (root.Bokeh !== undefined && root.Bokeh.Panel !== undefined) {\n",
       "        clearInterval(timer);\n",
       "        embed_document(root);\n",
       "      } else if (document.readyState == \"complete\") {\n",
       "        attempts++;\n",
       "        if (attempts > 200) {\n",
       "          clearInterval(timer);\n",
       "          console.log(\"Bokeh: ERROR: Unable to run BokehJS code because BokehJS library is missing\");\n",
       "        }\n",
       "      }\n",
       "    }, 25, root)\n",
       "  }\n",
       "})(window);</script>"
      ],
      "text/plain": [
       ":Bars   [GENDER]   (count)"
      ]
     },
     "execution_count": 141,
     "metadata": {
      "application/vnd.holoviews_exec.v0+json": {
       "id": "2661"
      }
     },
     "output_type": "execute_result"
    }
   ],
   "source": [
    "import hvplot.pandas\n",
    "CU[CU.RACE == 'B'].GENDER.value_counts().hvplot.bar(height=350, width=350)"
   ]
  },
  {
   "cell_type": "code",
   "execution_count": 142,
   "id": "a1bacea4-8556-483d-a998-6d0f4f45f56e",
   "metadata": {
    "tags": []
   },
   "outputs": [
    {
     "data": {},
     "metadata": {},
     "output_type": "display_data"
    },
    {
     "data": {
      "application/vnd.holoviews_exec.v0+json": "",
      "text/html": [
       "<div id='2778'>\n",
       "  <div class=\"bk-root\" id=\"d95ccd5e-11f0-4d27-8b36-886dd0e3b949\" data-root-id=\"2778\"></div>\n",
       "</div>\n",
       "<script type=\"application/javascript\">(function(root) {\n",
       "  function embed_document(root) {\n",
       "    var docs_json = {\"d2b6d24e-c2d3-4a3f-ab7b-425a5520eaf6\":{\"defs\":[{\"extends\":null,\"module\":null,\"name\":\"ReactiveHTML1\",\"overrides\":[],\"properties\":[]},{\"extends\":null,\"module\":null,\"name\":\"FlexBox1\",\"overrides\":[],\"properties\":[{\"default\":\"flex-start\",\"kind\":null,\"name\":\"align_content\"},{\"default\":\"flex-start\",\"kind\":null,\"name\":\"align_items\"},{\"default\":\"row\",\"kind\":null,\"name\":\"flex_direction\"},{\"default\":\"wrap\",\"kind\":null,\"name\":\"flex_wrap\"},{\"default\":\"flex-start\",\"kind\":null,\"name\":\"justify_content\"}]},{\"extends\":null,\"module\":null,\"name\":\"GridStack1\",\"overrides\":[],\"properties\":[{\"default\":\"warn\",\"kind\":null,\"name\":\"mode\"},{\"default\":null,\"kind\":null,\"name\":\"ncols\"},{\"default\":null,\"kind\":null,\"name\":\"nrows\"},{\"default\":true,\"kind\":null,\"name\":\"allow_resize\"},{\"default\":true,\"kind\":null,\"name\":\"allow_drag\"},{\"default\":[],\"kind\":null,\"name\":\"state\"}]},{\"extends\":null,\"module\":null,\"name\":\"click1\",\"overrides\":[],\"properties\":[{\"default\":\"\",\"kind\":null,\"name\":\"terminal_output\"},{\"default\":\"\",\"kind\":null,\"name\":\"debug_name\"},{\"default\":0,\"kind\":null,\"name\":\"clears\"}]},{\"extends\":null,\"module\":null,\"name\":\"NotificationAreaBase1\",\"overrides\":[],\"properties\":[{\"default\":\"bottom-right\",\"kind\":null,\"name\":\"position\"},{\"default\":0,\"kind\":null,\"name\":\"_clear\"}]},{\"extends\":null,\"module\":null,\"name\":\"NotificationArea1\",\"overrides\":[],\"properties\":[{\"default\":[],\"kind\":null,\"name\":\"notifications\"},{\"default\":\"bottom-right\",\"kind\":null,\"name\":\"position\"},{\"default\":0,\"kind\":null,\"name\":\"_clear\"},{\"default\":[{\"background\":\"#ffc107\",\"icon\":{\"className\":\"fas fa-exclamation-triangle\",\"color\":\"white\",\"tagName\":\"i\"},\"type\":\"warning\"},{\"background\":\"#007bff\",\"icon\":{\"className\":\"fas fa-info-circle\",\"color\":\"white\",\"tagName\":\"i\"},\"type\":\"info\"}],\"kind\":null,\"name\":\"types\"}]},{\"extends\":null,\"module\":null,\"name\":\"Notification\",\"overrides\":[],\"properties\":[{\"default\":null,\"kind\":null,\"name\":\"background\"},{\"default\":3000,\"kind\":null,\"name\":\"duration\"},{\"default\":null,\"kind\":null,\"name\":\"icon\"},{\"default\":\"\",\"kind\":null,\"name\":\"message\"},{\"default\":null,\"kind\":null,\"name\":\"notification_type\"},{\"default\":false,\"kind\":null,\"name\":\"_destroyed\"}]},{\"extends\":null,\"module\":null,\"name\":\"TemplateActions1\",\"overrides\":[],\"properties\":[{\"default\":0,\"kind\":null,\"name\":\"open_modal\"},{\"default\":0,\"kind\":null,\"name\":\"close_modal\"}]},{\"extends\":null,\"module\":null,\"name\":\"MaterialTemplateActions1\",\"overrides\":[],\"properties\":[{\"default\":0,\"kind\":null,\"name\":\"open_modal\"},{\"default\":0,\"kind\":null,\"name\":\"close_modal\"}]}],\"roots\":{\"references\":[{\"attributes\":{},\"id\":\"2799\",\"type\":\"CategoricalTicker\"},{\"attributes\":{},\"id\":\"2803\",\"type\":\"WheelZoomTool\"},{\"attributes\":{\"source\":{\"id\":\"2814\"}},\"id\":\"2821\",\"type\":\"CDSView\"},{\"attributes\":{},\"id\":\"2802\",\"type\":\"PanTool\"},{\"attributes\":{},\"id\":\"2801\",\"type\":\"SaveTool\"},{\"attributes\":{\"coordinates\":null,\"data_source\":{\"id\":\"2814\"},\"glyph\":{\"id\":\"2817\"},\"group\":null,\"hover_glyph\":null,\"muted_glyph\":{\"id\":\"2819\"},\"nonselection_glyph\":{\"id\":\"2818\"},\"selection_glyph\":{\"id\":\"2822\"},\"view\":{\"id\":\"2821\"}},\"id\":\"2820\",\"type\":\"GlyphRenderer\"},{\"attributes\":{\"overlay\":{\"id\":\"2806\"}},\"id\":\"2804\",\"type\":\"BoxZoomTool\"},{\"attributes\":{\"fill_alpha\":{\"value\":1.0},\"fill_color\":{\"value\":\"#30a2da\"},\"hatch_alpha\":{\"value\":1.0},\"hatch_color\":{\"value\":\"#30a2da\"},\"hatch_scale\":{\"value\":12.0},\"hatch_weight\":{\"value\":1.0},\"height\":{\"value\":0.8},\"left\":{\"value\":0},\"line_alpha\":{\"value\":1.0},\"line_cap\":{\"value\":\"butt\"},\"line_color\":{\"value\":\"black\"},\"line_dash\":{\"value\":[]},\"line_dash_offset\":{\"value\":0},\"line_join\":{\"value\":\"bevel\"},\"line_width\":{\"value\":1},\"right\":{\"field\":\"count\"},\"tags\":[\"apply_ranges\"],\"y\":{\"field\":\"RACE\"}},\"id\":\"2822\",\"type\":\"HBar\"},{\"attributes\":{},\"id\":\"2805\",\"type\":\"ResetTool\"},{\"attributes\":{\"margin\":[5,5,5,5],\"name\":\"HSpacer02858\",\"sizing_mode\":\"stretch_width\"},\"id\":\"2843\",\"type\":\"Spacer\"},{\"attributes\":{\"bottom_units\":\"screen\",\"coordinates\":null,\"fill_alpha\":0.5,\"fill_color\":\"lightgrey\",\"group\":null,\"left_units\":\"screen\",\"level\":\"overlay\",\"line_alpha\":1.0,\"line_color\":\"black\",\"line_dash\":[4,4],\"line_width\":2,\"right_units\":\"screen\",\"syncable\":false,\"top_units\":\"screen\"},\"id\":\"2806\",\"type\":\"BoxAnnotation\"},{\"attributes\":{\"children\":[{\"id\":\"2779\"},{\"id\":\"2785\"},{\"id\":\"2843\"}],\"margin\":[0,0,0,0],\"name\":\"Row02853\",\"tags\":[\"embedded\"]},\"id\":\"2778\",\"type\":\"Row\"},{\"attributes\":{\"callback\":null,\"renderers\":[{\"id\":\"2820\"}],\"tags\":[\"hv_created\"],\"tooltips\":[[\"RACE\",\"@{RACE}\"],[\"count\",\"@{count}\"]]},\"id\":\"2784\",\"type\":\"HoverTool\"},{\"attributes\":{},\"id\":\"2825\",\"type\":\"AllLabels\"},{\"attributes\":{},\"id\":\"2792\",\"type\":\"LinearScale\"},{\"attributes\":{\"fill_color\":{\"value\":\"#30a2da\"},\"hatch_color\":{\"value\":\"#30a2da\"},\"height\":{\"value\":0.8},\"right\":{\"field\":\"count\"},\"tags\":[\"apply_ranges\"],\"y\":{\"field\":\"RACE\"}},\"id\":\"2817\",\"type\":\"HBar\"},{\"attributes\":{},\"id\":\"2827\",\"type\":\"CategoricalTickFormatter\"},{\"attributes\":{\"data\":{\"RACE\":[\"B\",\"O\",\"W\",\"A\",\"U\",\"I\"],\"count\":[4401,2376,570,179,61,19]},\"selected\":{\"id\":\"2815\"},\"selection_policy\":{\"id\":\"2840\"}},\"id\":\"2814\",\"type\":\"ColumnDataSource\"},{\"attributes\":{\"active_drag\":{\"id\":\"2802\"},\"active_scroll\":{\"id\":\"2803\"},\"tools\":[{\"id\":\"2784\"},{\"id\":\"2801\"},{\"id\":\"2802\"},{\"id\":\"2803\"},{\"id\":\"2804\"},{\"id\":\"2805\"}]},\"id\":\"2807\",\"type\":\"Toolbar\"},{\"attributes\":{\"margin\":[5,5,5,5],\"name\":\"HSpacer02857\",\"sizing_mode\":\"stretch_width\"},\"id\":\"2779\",\"type\":\"Spacer\"},{\"attributes\":{\"coordinates\":null,\"group\":null,\"text\":\"count\",\"text_color\":\"black\",\"text_font_size\":\"12pt\"},\"id\":\"2786\",\"type\":\"Title\"},{\"attributes\":{\"fill_alpha\":{\"value\":0.1},\"fill_color\":{\"value\":\"#30a2da\"},\"hatch_alpha\":{\"value\":0.1},\"hatch_color\":{\"value\":\"#30a2da\"},\"height\":{\"value\":0.8},\"line_alpha\":{\"value\":0.1},\"right\":{\"field\":\"count\"},\"tags\":[\"apply_ranges\"],\"y\":{\"field\":\"RACE\"}},\"id\":\"2818\",\"type\":\"HBar\"},{\"attributes\":{\"factors\":[\"B\",\"O\",\"W\",\"A\",\"U\",\"I\"],\"tags\":[[[\"RACE\",\"RACE\",null]],{\"autorange\":false,\"invert_yaxis\":false}]},\"id\":\"2781\",\"type\":\"FactorRange\"},{\"attributes\":{},\"id\":\"2815\",\"type\":\"Selection\"},{\"attributes\":{\"below\":[{\"id\":\"2794\"}],\"center\":[{\"id\":\"2797\"},{\"id\":\"2800\"}],\"height\":300,\"left\":[{\"id\":\"2798\"}],\"margin\":[5,5,5,5],\"min_border_bottom\":10,\"min_border_left\":10,\"min_border_right\":10,\"min_border_top\":10,\"output_backend\":\"webgl\",\"renderers\":[{\"id\":\"2820\"}],\"sizing_mode\":\"fixed\",\"title\":{\"id\":\"2786\"},\"toolbar\":{\"id\":\"2807\"},\"width\":700,\"x_range\":{\"id\":\"2780\"},\"x_scale\":{\"id\":\"2792\"},\"y_range\":{\"id\":\"2781\"},\"y_scale\":{\"id\":\"2793\"}},\"id\":\"2785\",\"subtype\":\"Figure\",\"type\":\"Plot\"},{\"attributes\":{\"axis\":{\"id\":\"2794\"},\"coordinates\":null,\"grid_line_color\":null,\"group\":null,\"ticker\":null},\"id\":\"2797\",\"type\":\"Grid\"},{\"attributes\":{},\"id\":\"2795\",\"type\":\"BasicTicker\"},{\"attributes\":{},\"id\":\"2793\",\"type\":\"CategoricalScale\"},{\"attributes\":{\"end\":4839.2,\"reset_end\":4839.2,\"reset_start\":0.0,\"tags\":[[[\"count\",\"count\",null]],[]]},\"id\":\"2780\",\"type\":\"Range1d\"},{\"attributes\":{},\"id\":\"2824\",\"type\":\"BasicTickFormatter\"},{\"attributes\":{\"axis_label\":\"count\",\"coordinates\":null,\"formatter\":{\"id\":\"2824\"},\"group\":null,\"major_label_policy\":{\"id\":\"2825\"},\"ticker\":{\"id\":\"2795\"}},\"id\":\"2794\",\"type\":\"LinearAxis\"},{\"attributes\":{},\"id\":\"2840\",\"type\":\"UnionRenderers\"},{\"attributes\":{},\"id\":\"2828\",\"type\":\"AllLabels\"},{\"attributes\":{\"axis_label\":\"\",\"coordinates\":null,\"formatter\":{\"id\":\"2827\"},\"group\":null,\"major_label_policy\":{\"id\":\"2828\"},\"ticker\":{\"id\":\"2799\"}},\"id\":\"2798\",\"type\":\"CategoricalAxis\"},{\"attributes\":{\"fill_alpha\":{\"value\":0.2},\"fill_color\":{\"value\":\"#30a2da\"},\"hatch_alpha\":{\"value\":0.2},\"hatch_color\":{\"value\":\"#30a2da\"},\"height\":{\"value\":0.8},\"line_alpha\":{\"value\":0.2},\"right\":{\"field\":\"count\"},\"tags\":[\"apply_ranges\"],\"y\":{\"field\":\"RACE\"}},\"id\":\"2819\",\"type\":\"HBar\"},{\"attributes\":{\"axis\":{\"id\":\"2798\"},\"coordinates\":null,\"dimension\":1,\"grid_line_color\":null,\"group\":null,\"ticker\":null},\"id\":\"2800\",\"type\":\"Grid\"}],\"root_ids\":[\"2778\"]},\"title\":\"Bokeh Application\",\"version\":\"2.4.3\"}};\n",
       "    var render_items = [{\"docid\":\"d2b6d24e-c2d3-4a3f-ab7b-425a5520eaf6\",\"root_ids\":[\"2778\"],\"roots\":{\"2778\":\"d95ccd5e-11f0-4d27-8b36-886dd0e3b949\"}}];\n",
       "    root.Bokeh.embed.embed_items_notebook(docs_json, render_items);\n",
       "    for (const render_item of render_items) {\n",
       "      for (const root_id of render_item.root_ids) {\n",
       "\tconst id_el = document.getElementById(root_id)\n",
       "\tif (id_el.children.length && (id_el.children[0].className === 'bk-root')) {\n",
       "\t  const root_el = id_el.children[0]\n",
       "\t  root_el.id = root_el.id + '-rendered'\n",
       "\t}\n",
       "      }\n",
       "    }\n",
       "  }\n",
       "  if (root.Bokeh !== undefined && root.Bokeh.Panel !== undefined) {\n",
       "    embed_document(root);\n",
       "  } else {\n",
       "    var attempts = 0;\n",
       "    var timer = setInterval(function(root) {\n",
       "      if (root.Bokeh !== undefined && root.Bokeh.Panel !== undefined) {\n",
       "        clearInterval(timer);\n",
       "        embed_document(root);\n",
       "      } else if (document.readyState == \"complete\") {\n",
       "        attempts++;\n",
       "        if (attempts > 200) {\n",
       "          clearInterval(timer);\n",
       "          console.log(\"Bokeh: ERROR: Unable to run BokehJS code because BokehJS library is missing\");\n",
       "        }\n",
       "      }\n",
       "    }, 25, root)\n",
       "  }\n",
       "})(window);</script>"
      ],
      "text/plain": [
       ":Bars   [RACE]   (count)"
      ]
     },
     "execution_count": 142,
     "metadata": {
      "application/vnd.holoviews_exec.v0+json": {
       "id": "2778"
      }
     },
     "output_type": "execute_result"
    }
   ],
   "source": [
    "CU['RACE'].value_counts().hvplot.barh()"
   ]
  },
  {
   "cell_type": "code",
   "execution_count": 143,
   "id": "5901677d-5ca7-4b4c-b5bd-0cef3668f506",
   "metadata": {
    "tags": []
   },
   "outputs": [
    {
     "data": {},
     "metadata": {},
     "output_type": "display_data"
    },
    {
     "data": {
      "application/vnd.holoviews_exec.v0+json": "",
      "text/html": [
       "<div id='2895'>\n",
       "  <div class=\"bk-root\" id=\"4e30d4cb-b33e-47f1-9572-528111be27c5\" data-root-id=\"2895\"></div>\n",
       "</div>\n",
       "<script type=\"application/javascript\">(function(root) {\n",
       "  function embed_document(root) {\n",
       "    var docs_json = {\"cc2ad956-9e89-4a83-9228-b5d5e51a5e89\":{\"defs\":[{\"extends\":null,\"module\":null,\"name\":\"ReactiveHTML1\",\"overrides\":[],\"properties\":[]},{\"extends\":null,\"module\":null,\"name\":\"FlexBox1\",\"overrides\":[],\"properties\":[{\"default\":\"flex-start\",\"kind\":null,\"name\":\"align_content\"},{\"default\":\"flex-start\",\"kind\":null,\"name\":\"align_items\"},{\"default\":\"row\",\"kind\":null,\"name\":\"flex_direction\"},{\"default\":\"wrap\",\"kind\":null,\"name\":\"flex_wrap\"},{\"default\":\"flex-start\",\"kind\":null,\"name\":\"justify_content\"}]},{\"extends\":null,\"module\":null,\"name\":\"GridStack1\",\"overrides\":[],\"properties\":[{\"default\":\"warn\",\"kind\":null,\"name\":\"mode\"},{\"default\":null,\"kind\":null,\"name\":\"ncols\"},{\"default\":null,\"kind\":null,\"name\":\"nrows\"},{\"default\":true,\"kind\":null,\"name\":\"allow_resize\"},{\"default\":true,\"kind\":null,\"name\":\"allow_drag\"},{\"default\":[],\"kind\":null,\"name\":\"state\"}]},{\"extends\":null,\"module\":null,\"name\":\"click1\",\"overrides\":[],\"properties\":[{\"default\":\"\",\"kind\":null,\"name\":\"terminal_output\"},{\"default\":\"\",\"kind\":null,\"name\":\"debug_name\"},{\"default\":0,\"kind\":null,\"name\":\"clears\"}]},{\"extends\":null,\"module\":null,\"name\":\"NotificationAreaBase1\",\"overrides\":[],\"properties\":[{\"default\":\"bottom-right\",\"kind\":null,\"name\":\"position\"},{\"default\":0,\"kind\":null,\"name\":\"_clear\"}]},{\"extends\":null,\"module\":null,\"name\":\"NotificationArea1\",\"overrides\":[],\"properties\":[{\"default\":[],\"kind\":null,\"name\":\"notifications\"},{\"default\":\"bottom-right\",\"kind\":null,\"name\":\"position\"},{\"default\":0,\"kind\":null,\"name\":\"_clear\"},{\"default\":[{\"background\":\"#ffc107\",\"icon\":{\"className\":\"fas fa-exclamation-triangle\",\"color\":\"white\",\"tagName\":\"i\"},\"type\":\"warning\"},{\"background\":\"#007bff\",\"icon\":{\"className\":\"fas fa-info-circle\",\"color\":\"white\",\"tagName\":\"i\"},\"type\":\"info\"}],\"kind\":null,\"name\":\"types\"}]},{\"extends\":null,\"module\":null,\"name\":\"Notification\",\"overrides\":[],\"properties\":[{\"default\":null,\"kind\":null,\"name\":\"background\"},{\"default\":3000,\"kind\":null,\"name\":\"duration\"},{\"default\":null,\"kind\":null,\"name\":\"icon\"},{\"default\":\"\",\"kind\":null,\"name\":\"message\"},{\"default\":null,\"kind\":null,\"name\":\"notification_type\"},{\"default\":false,\"kind\":null,\"name\":\"_destroyed\"}]},{\"extends\":null,\"module\":null,\"name\":\"TemplateActions1\",\"overrides\":[],\"properties\":[{\"default\":0,\"kind\":null,\"name\":\"open_modal\"},{\"default\":0,\"kind\":null,\"name\":\"close_modal\"}]},{\"extends\":null,\"module\":null,\"name\":\"MaterialTemplateActions1\",\"overrides\":[],\"properties\":[{\"default\":0,\"kind\":null,\"name\":\"open_modal\"},{\"default\":0,\"kind\":null,\"name\":\"close_modal\"}]}],\"roots\":{\"references\":[{\"attributes\":{\"fill_color\":{\"value\":\"#30a2da\"},\"hatch_color\":{\"value\":\"#30a2da\"},\"tags\":[\"apply_ranges\"],\"top\":{\"field\":\"count\"},\"width\":{\"value\":0.8},\"x\":{\"field\":\"GENDER\"}},\"id\":\"2934\",\"type\":\"VBar\"},{\"attributes\":{\"coordinates\":null,\"data_source\":{\"id\":\"2931\"},\"glyph\":{\"id\":\"2934\"},\"group\":null,\"hover_glyph\":null,\"muted_glyph\":{\"id\":\"2936\"},\"nonselection_glyph\":{\"id\":\"2935\"},\"selection_glyph\":{\"id\":\"2939\"},\"view\":{\"id\":\"2938\"}},\"id\":\"2937\",\"type\":\"GlyphRenderer\"},{\"attributes\":{},\"id\":\"2942\",\"type\":\"AllLabels\"},{\"attributes\":{\"end\":4549.5,\"reset_end\":4549.5,\"reset_start\":0.0,\"tags\":[[[\"count\",\"count\",null]],{\"autorange\":false,\"invert_yaxis\":false}]},\"id\":\"2898\",\"type\":\"Range1d\"},{\"attributes\":{},\"id\":\"2909\",\"type\":\"CategoricalScale\"},{\"attributes\":{},\"id\":\"2944\",\"type\":\"BasicTickFormatter\"},{\"attributes\":{},\"id\":\"2910\",\"type\":\"LinearScale\"},{\"attributes\":{\"callback\":null,\"renderers\":[{\"id\":\"2937\"}],\"tags\":[\"hv_created\"],\"tooltips\":[[\"GENDER\",\"@{GENDER}\"],[\"count\",\"@{count}\"]]},\"id\":\"2901\",\"type\":\"HoverTool\"},{\"attributes\":{},\"id\":\"2912\",\"type\":\"CategoricalTicker\"},{\"attributes\":{\"coordinates\":null,\"group\":null,\"text\":\"count\",\"text_color\":\"black\",\"text_font_size\":\"12pt\"},\"id\":\"2903\",\"type\":\"Title\"},{\"attributes\":{\"below\":[{\"id\":\"2911\"}],\"center\":[{\"id\":\"2913\"},{\"id\":\"2917\"}],\"height\":350,\"left\":[{\"id\":\"2914\"}],\"margin\":[5,5,5,5],\"min_border_bottom\":10,\"min_border_left\":10,\"min_border_right\":10,\"min_border_top\":10,\"output_backend\":\"webgl\",\"renderers\":[{\"id\":\"2937\"}],\"sizing_mode\":\"fixed\",\"title\":{\"id\":\"2903\"},\"toolbar\":{\"id\":\"2924\"},\"width\":350,\"x_range\":{\"id\":\"2897\"},\"x_scale\":{\"id\":\"2909\"},\"y_range\":{\"id\":\"2898\"},\"y_scale\":{\"id\":\"2910\"}},\"id\":\"2902\",\"subtype\":\"Figure\",\"type\":\"Plot\"},{\"attributes\":{\"axis\":{\"id\":\"2911\"},\"coordinates\":null,\"grid_line_color\":null,\"group\":null,\"ticker\":null},\"id\":\"2913\",\"type\":\"Grid\"},{\"attributes\":{\"axis_label\":\"GENDER\",\"coordinates\":null,\"formatter\":{\"id\":\"2941\"},\"group\":null,\"major_label_policy\":{\"id\":\"2942\"},\"ticker\":{\"id\":\"2912\"}},\"id\":\"2911\",\"type\":\"CategoricalAxis\"},{\"attributes\":{\"axis_label\":\"\",\"coordinates\":null,\"formatter\":{\"id\":\"2944\"},\"group\":null,\"major_label_policy\":{\"id\":\"2945\"},\"ticker\":{\"id\":\"2915\"}},\"id\":\"2914\",\"type\":\"LinearAxis\"},{\"attributes\":{\"source\":{\"id\":\"2931\"}},\"id\":\"2938\",\"type\":\"CDSView\"},{\"attributes\":{\"axis\":{\"id\":\"2914\"},\"coordinates\":null,\"dimension\":1,\"grid_line_color\":null,\"group\":null,\"ticker\":null},\"id\":\"2917\",\"type\":\"Grid\"},{\"attributes\":{\"fill_alpha\":{\"value\":0.1},\"fill_color\":{\"value\":\"#30a2da\"},\"hatch_alpha\":{\"value\":0.1},\"hatch_color\":{\"value\":\"#30a2da\"},\"line_alpha\":{\"value\":0.1},\"tags\":[\"apply_ranges\"],\"top\":{\"field\":\"count\"},\"width\":{\"value\":0.8},\"x\":{\"field\":\"GENDER\"}},\"id\":\"2935\",\"type\":\"VBar\"},{\"attributes\":{},\"id\":\"2915\",\"type\":\"BasicTicker\"},{\"attributes\":{\"data\":{\"GENDER\":[\"M\",\"F\"],\"count\":[4158,243]},\"selected\":{\"id\":\"2932\"},\"selection_policy\":{\"id\":\"2957\"}},\"id\":\"2931\",\"type\":\"ColumnDataSource\"},{\"attributes\":{},\"id\":\"2957\",\"type\":\"UnionRenderers\"},{\"attributes\":{},\"id\":\"2920\",\"type\":\"WheelZoomTool\"},{\"attributes\":{},\"id\":\"2945\",\"type\":\"AllLabels\"},{\"attributes\":{},\"id\":\"2941\",\"type\":\"CategoricalTickFormatter\"},{\"attributes\":{},\"id\":\"2919\",\"type\":\"PanTool\"},{\"attributes\":{\"factors\":[\"M\",\"F\"],\"tags\":[[[\"GENDER\",\"GENDER\",null]],[]]},\"id\":\"2897\",\"type\":\"FactorRange\"},{\"attributes\":{\"margin\":[5,5,5,5],\"name\":\"HSpacer02961\",\"sizing_mode\":\"stretch_width\"},\"id\":\"2896\",\"type\":\"Spacer\"},{\"attributes\":{},\"id\":\"2918\",\"type\":\"SaveTool\"},{\"attributes\":{\"overlay\":{\"id\":\"2923\"}},\"id\":\"2921\",\"type\":\"BoxZoomTool\"},{\"attributes\":{},\"id\":\"2922\",\"type\":\"ResetTool\"},{\"attributes\":{\"bottom_units\":\"screen\",\"coordinates\":null,\"fill_alpha\":0.5,\"fill_color\":\"lightgrey\",\"group\":null,\"left_units\":\"screen\",\"level\":\"overlay\",\"line_alpha\":1.0,\"line_color\":\"black\",\"line_dash\":[4,4],\"line_width\":2,\"right_units\":\"screen\",\"syncable\":false,\"top_units\":\"screen\"},\"id\":\"2923\",\"type\":\"BoxAnnotation\"},{\"attributes\":{},\"id\":\"2932\",\"type\":\"Selection\"},{\"attributes\":{\"margin\":[5,5,5,5],\"name\":\"HSpacer02962\",\"sizing_mode\":\"stretch_width\"},\"id\":\"2960\",\"type\":\"Spacer\"},{\"attributes\":{\"children\":[{\"id\":\"2896\"},{\"id\":\"2902\"},{\"id\":\"2960\"}],\"margin\":[0,0,0,0],\"name\":\"Row02957\",\"tags\":[\"embedded\"]},\"id\":\"2895\",\"type\":\"Row\"},{\"attributes\":{\"fill_alpha\":{\"value\":0.2},\"fill_color\":{\"value\":\"#30a2da\"},\"hatch_alpha\":{\"value\":0.2},\"hatch_color\":{\"value\":\"#30a2da\"},\"line_alpha\":{\"value\":0.2},\"tags\":[\"apply_ranges\"],\"top\":{\"field\":\"count\"},\"width\":{\"value\":0.8},\"x\":{\"field\":\"GENDER\"}},\"id\":\"2936\",\"type\":\"VBar\"},{\"attributes\":{\"active_drag\":{\"id\":\"2919\"},\"active_scroll\":{\"id\":\"2920\"},\"tools\":[{\"id\":\"2901\"},{\"id\":\"2918\"},{\"id\":\"2919\"},{\"id\":\"2920\"},{\"id\":\"2921\"},{\"id\":\"2922\"}]},\"id\":\"2924\",\"type\":\"Toolbar\"},{\"attributes\":{\"bottom\":{\"value\":0},\"fill_alpha\":{\"value\":1.0},\"fill_color\":{\"value\":\"#30a2da\"},\"hatch_alpha\":{\"value\":1.0},\"hatch_color\":{\"value\":\"#30a2da\"},\"hatch_scale\":{\"value\":12.0},\"hatch_weight\":{\"value\":1.0},\"line_alpha\":{\"value\":1.0},\"line_cap\":{\"value\":\"butt\"},\"line_color\":{\"value\":\"black\"},\"line_dash\":{\"value\":[]},\"line_dash_offset\":{\"value\":0},\"line_join\":{\"value\":\"bevel\"},\"line_width\":{\"value\":1},\"tags\":[\"apply_ranges\"],\"top\":{\"field\":\"count\"},\"width\":{\"value\":0.8},\"x\":{\"field\":\"GENDER\"}},\"id\":\"2939\",\"type\":\"VBar\"}],\"root_ids\":[\"2895\"]},\"title\":\"Bokeh Application\",\"version\":\"2.4.3\"}};\n",
       "    var render_items = [{\"docid\":\"cc2ad956-9e89-4a83-9228-b5d5e51a5e89\",\"root_ids\":[\"2895\"],\"roots\":{\"2895\":\"4e30d4cb-b33e-47f1-9572-528111be27c5\"}}];\n",
       "    root.Bokeh.embed.embed_items_notebook(docs_json, render_items);\n",
       "    for (const render_item of render_items) {\n",
       "      for (const root_id of render_item.root_ids) {\n",
       "\tconst id_el = document.getElementById(root_id)\n",
       "\tif (id_el.children.length && (id_el.children[0].className === 'bk-root')) {\n",
       "\t  const root_el = id_el.children[0]\n",
       "\t  root_el.id = root_el.id + '-rendered'\n",
       "\t}\n",
       "      }\n",
       "    }\n",
       "  }\n",
       "  if (root.Bokeh !== undefined && root.Bokeh.Panel !== undefined) {\n",
       "    embed_document(root);\n",
       "  } else {\n",
       "    var attempts = 0;\n",
       "    var timer = setInterval(function(root) {\n",
       "      if (root.Bokeh !== undefined && root.Bokeh.Panel !== undefined) {\n",
       "        clearInterval(timer);\n",
       "        embed_document(root);\n",
       "      } else if (document.readyState == \"complete\") {\n",
       "        attempts++;\n",
       "        if (attempts > 200) {\n",
       "          clearInterval(timer);\n",
       "          console.log(\"Bokeh: ERROR: Unable to run BokehJS code because BokehJS library is missing\");\n",
       "        }\n",
       "      }\n",
       "    }, 25, root)\n",
       "  }\n",
       "})(window);</script>"
      ],
      "text/plain": [
       ":Bars   [GENDER]   (count)"
      ]
     },
     "execution_count": 143,
     "metadata": {
      "application/vnd.holoviews_exec.v0+json": {
       "id": "2895"
      }
     },
     "output_type": "execute_result"
    }
   ],
   "source": [
    "CU[CU.RACE == 'B'].GENDER.value_counts().hvplot.bar(height=350, width=350)"
   ]
  },
  {
   "cell_type": "code",
   "execution_count": 144,
   "id": "efca8a9d-32ff-4114-a661-1cd41a6a2201",
   "metadata": {
    "tags": []
   },
   "outputs": [
    {
     "data": {},
     "metadata": {},
     "output_type": "display_data"
    },
    {
     "data": {
      "application/vnd.holoviews_exec.v0+json": "",
      "text/html": [
       "<div id='3012'>\n",
       "  <div class=\"bk-root\" id=\"ef66c26d-8a81-49da-8539-ec4d9343edcd\" data-root-id=\"3012\"></div>\n",
       "</div>\n",
       "<script type=\"application/javascript\">(function(root) {\n",
       "  function embed_document(root) {\n",
       "    var docs_json = {\"0a94104d-c2ac-4255-8477-6ec0a2ef6b40\":{\"defs\":[{\"extends\":null,\"module\":null,\"name\":\"ReactiveHTML1\",\"overrides\":[],\"properties\":[]},{\"extends\":null,\"module\":null,\"name\":\"FlexBox1\",\"overrides\":[],\"properties\":[{\"default\":\"flex-start\",\"kind\":null,\"name\":\"align_content\"},{\"default\":\"flex-start\",\"kind\":null,\"name\":\"align_items\"},{\"default\":\"row\",\"kind\":null,\"name\":\"flex_direction\"},{\"default\":\"wrap\",\"kind\":null,\"name\":\"flex_wrap\"},{\"default\":\"flex-start\",\"kind\":null,\"name\":\"justify_content\"}]},{\"extends\":null,\"module\":null,\"name\":\"GridStack1\",\"overrides\":[],\"properties\":[{\"default\":\"warn\",\"kind\":null,\"name\":\"mode\"},{\"default\":null,\"kind\":null,\"name\":\"ncols\"},{\"default\":null,\"kind\":null,\"name\":\"nrows\"},{\"default\":true,\"kind\":null,\"name\":\"allow_resize\"},{\"default\":true,\"kind\":null,\"name\":\"allow_drag\"},{\"default\":[],\"kind\":null,\"name\":\"state\"}]},{\"extends\":null,\"module\":null,\"name\":\"click1\",\"overrides\":[],\"properties\":[{\"default\":\"\",\"kind\":null,\"name\":\"terminal_output\"},{\"default\":\"\",\"kind\":null,\"name\":\"debug_name\"},{\"default\":0,\"kind\":null,\"name\":\"clears\"}]},{\"extends\":null,\"module\":null,\"name\":\"NotificationAreaBase1\",\"overrides\":[],\"properties\":[{\"default\":\"bottom-right\",\"kind\":null,\"name\":\"position\"},{\"default\":0,\"kind\":null,\"name\":\"_clear\"}]},{\"extends\":null,\"module\":null,\"name\":\"NotificationArea1\",\"overrides\":[],\"properties\":[{\"default\":[],\"kind\":null,\"name\":\"notifications\"},{\"default\":\"bottom-right\",\"kind\":null,\"name\":\"position\"},{\"default\":0,\"kind\":null,\"name\":\"_clear\"},{\"default\":[{\"background\":\"#ffc107\",\"icon\":{\"className\":\"fas fa-exclamation-triangle\",\"color\":\"white\",\"tagName\":\"i\"},\"type\":\"warning\"},{\"background\":\"#007bff\",\"icon\":{\"className\":\"fas fa-info-circle\",\"color\":\"white\",\"tagName\":\"i\"},\"type\":\"info\"}],\"kind\":null,\"name\":\"types\"}]},{\"extends\":null,\"module\":null,\"name\":\"Notification\",\"overrides\":[],\"properties\":[{\"default\":null,\"kind\":null,\"name\":\"background\"},{\"default\":3000,\"kind\":null,\"name\":\"duration\"},{\"default\":null,\"kind\":null,\"name\":\"icon\"},{\"default\":\"\",\"kind\":null,\"name\":\"message\"},{\"default\":null,\"kind\":null,\"name\":\"notification_type\"},{\"default\":false,\"kind\":null,\"name\":\"_destroyed\"}]},{\"extends\":null,\"module\":null,\"name\":\"TemplateActions1\",\"overrides\":[],\"properties\":[{\"default\":0,\"kind\":null,\"name\":\"open_modal\"},{\"default\":0,\"kind\":null,\"name\":\"close_modal\"}]},{\"extends\":null,\"module\":null,\"name\":\"MaterialTemplateActions1\",\"overrides\":[],\"properties\":[{\"default\":0,\"kind\":null,\"name\":\"open_modal\"},{\"default\":0,\"kind\":null,\"name\":\"close_modal\"}]}],\"roots\":{\"references\":[{\"attributes\":{},\"id\":\"3093\",\"type\":\"UnionRenderers\"},{\"attributes\":{\"label\":{\"value\":\"count\"},\"renderers\":[{\"id\":\"3061\"},{\"id\":\"3082\"}]},\"id\":\"3074\",\"type\":\"LegendItem\"},{\"attributes\":{\"bottom_units\":\"screen\",\"coordinates\":null,\"fill_alpha\":0.5,\"fill_color\":\"lightgrey\",\"group\":null,\"left_units\":\"screen\",\"level\":\"overlay\",\"line_alpha\":1.0,\"line_color\":\"black\",\"line_dash\":[4,4],\"line_width\":2,\"right_units\":\"screen\",\"syncable\":false,\"top_units\":\"screen\"},\"id\":\"3041\",\"type\":\"BoxAnnotation\"},{\"attributes\":{},\"id\":\"3050\",\"type\":\"BasicTickFormatter\"},{\"attributes\":{\"fill_alpha\":{\"value\":0.3},\"fill_color\":{\"value\":\"#30a2da\"},\"hatch_alpha\":{\"value\":0.1},\"hatch_color\":{\"value\":\"#30a2da\"},\"height\":{\"value\":0.8},\"line_alpha\":{\"value\":0.3},\"right\":{\"field\":\"count\"},\"tags\":[\"apply_ranges\"],\"y\":{\"field\":\"RACE\"}},\"id\":\"3059\",\"type\":\"HBar\"},{\"attributes\":{\"factors\":[\"B\",\"O\",\"W\",\"A\",\"U\",\"I\"],\"tags\":[[[\"RACE\",\"RACE\",null]],{\"autorange\":false,\"invert_yaxis\":false}]},\"id\":\"3015\",\"type\":\"FactorRange\"},{\"attributes\":{\"fill_alpha\":{\"value\":0.2},\"fill_color\":{\"value\":\"#30a2da\"},\"hatch_alpha\":{\"value\":0.2},\"hatch_color\":{\"value\":\"#30a2da\"},\"height\":{\"value\":0.8},\"line_alpha\":{\"value\":0.2},\"right\":{\"field\":\"count\"},\"tags\":[\"apply_ranges\"],\"y\":{\"field\":\"RACE\"}},\"id\":\"3060\",\"type\":\"HBar\"},{\"attributes\":{\"axis\":{\"id\":\"3029\"},\"coordinates\":null,\"grid_line_color\":null,\"group\":null,\"ticker\":null},\"id\":\"3032\",\"type\":\"Grid\"},{\"attributes\":{},\"id\":\"3030\",\"type\":\"BasicTicker\"},{\"attributes\":{\"source\":{\"id\":\"3076\"}},\"id\":\"3083\",\"type\":\"CDSView\"},{\"attributes\":{\"end\":4573.4,\"reset_end\":4573.4,\"reset_start\":0.0,\"start\":0.0,\"tags\":[[[\"count\",\"count\",null]],[]]},\"id\":\"3014\",\"type\":\"Range1d\"},{\"attributes\":{\"data\":{\"RACE\":[\"B\",\"O\",\"W\",\"A\",\"I\"],\"count\":[243,101,86,11,4]},\"selected\":{\"id\":\"3077\"},\"selection_policy\":{\"id\":\"3093\"}},\"id\":\"3076\",\"type\":\"ColumnDataSource\"},{\"attributes\":{\"data\":{\"RACE\":[\"B\",\"O\",\"W\",\"A\",\"U\",\"I\"],\"count\":[4158,2275,484,168,61,15]},\"selected\":{\"id\":\"3056\"},\"selection_policy\":{\"id\":\"3070\"}},\"id\":\"3055\",\"type\":\"ColumnDataSource\"},{\"attributes\":{},\"id\":\"3070\",\"type\":\"UnionRenderers\"},{\"attributes\":{\"callback\":null,\"renderers\":[{\"id\":\"3061\"},{\"id\":\"3082\"}],\"tags\":[\"hv_created\"],\"tooltips\":[[\"RACE\",\"@{RACE}\"],[\"count\",\"@{count}\"]]},\"id\":\"3018\",\"type\":\"HoverTool\"},{\"attributes\":{\"fill_alpha\":{\"value\":0.3},\"fill_color\":{\"value\":\"#fc4f30\"},\"hatch_alpha\":{\"value\":0.3},\"hatch_color\":{\"value\":\"#fc4f30\"},\"hatch_scale\":{\"value\":12.0},\"hatch_weight\":{\"value\":1.0},\"height\":{\"value\":0.8},\"left\":{\"value\":0},\"line_alpha\":{\"value\":0.3},\"line_cap\":{\"value\":\"butt\"},\"line_color\":{\"value\":\"black\"},\"line_dash\":{\"value\":[]},\"line_dash_offset\":{\"value\":0},\"line_join\":{\"value\":\"bevel\"},\"line_width\":{\"value\":1},\"right\":{\"field\":\"count\"},\"tags\":[\"apply_ranges\"],\"y\":{\"field\":\"RACE\"}},\"id\":\"3096\",\"type\":\"HBar\"},{\"attributes\":{},\"id\":\"3077\",\"type\":\"Selection\"},{\"attributes\":{\"margin\":[5,5,5,5],\"name\":\"HSpacer03188\",\"sizing_mode\":\"stretch_width\"},\"id\":\"3113\",\"type\":\"Spacer\"},{\"attributes\":{},\"id\":\"3027\",\"type\":\"LinearScale\"},{\"attributes\":{\"fill_alpha\":{\"value\":0.3},\"fill_color\":{\"value\":\"#fc4f30\"},\"hatch_alpha\":{\"value\":0.3},\"hatch_color\":{\"value\":\"#fc4f30\"},\"height\":{\"value\":0.8},\"line_alpha\":{\"value\":0.3},\"right\":{\"field\":\"count\"},\"tags\":[\"apply_ranges\"],\"y\":{\"field\":\"RACE\"}},\"id\":\"3079\",\"type\":\"HBar\"},{\"attributes\":{\"source\":{\"id\":\"3055\"}},\"id\":\"3062\",\"type\":\"CDSView\"},{\"attributes\":{\"coordinates\":null,\"group\":null,\"text\":\"count\",\"text_color\":\"black\",\"text_font_size\":\"12pt\"},\"id\":\"3021\",\"type\":\"Title\"},{\"attributes\":{\"coordinates\":null,\"data_source\":{\"id\":\"3055\"},\"glyph\":{\"id\":\"3058\"},\"group\":null,\"hover_glyph\":null,\"muted_glyph\":{\"id\":\"3060\"},\"name\":\"count\",\"nonselection_glyph\":{\"id\":\"3059\"},\"selection_glyph\":{\"id\":\"3075\"},\"view\":{\"id\":\"3062\"}},\"id\":\"3061\",\"type\":\"GlyphRenderer\"},{\"attributes\":{},\"id\":\"3028\",\"type\":\"CategoricalScale\"},{\"attributes\":{\"fill_alpha\":{\"value\":0.3},\"fill_color\":{\"value\":\"#fc4f30\"},\"hatch_alpha\":{\"value\":0.1},\"hatch_color\":{\"value\":\"#fc4f30\"},\"height\":{\"value\":0.8},\"line_alpha\":{\"value\":0.3},\"right\":{\"field\":\"count\"},\"tags\":[\"apply_ranges\"],\"y\":{\"field\":\"RACE\"}},\"id\":\"3080\",\"type\":\"HBar\"},{\"attributes\":{},\"id\":\"3051\",\"type\":\"AllLabels\"},{\"attributes\":{\"axis_label\":\"count\",\"coordinates\":null,\"formatter\":{\"id\":\"3050\"},\"group\":null,\"major_label_policy\":{\"id\":\"3051\"},\"ticker\":{\"id\":\"3030\"}},\"id\":\"3029\",\"type\":\"LinearAxis\"},{\"attributes\":{\"fill_alpha\":{\"value\":0.3},\"fill_color\":{\"value\":\"#30a2da\"},\"hatch_alpha\":{\"value\":0.3},\"hatch_color\":{\"value\":\"#30a2da\"},\"hatch_scale\":{\"value\":12.0},\"hatch_weight\":{\"value\":1.0},\"height\":{\"value\":0.8},\"left\":{\"value\":0},\"line_alpha\":{\"value\":0.3},\"line_cap\":{\"value\":\"butt\"},\"line_color\":{\"value\":\"black\"},\"line_dash\":{\"value\":[]},\"line_dash_offset\":{\"value\":0},\"line_join\":{\"value\":\"bevel\"},\"line_width\":{\"value\":1},\"right\":{\"field\":\"count\"},\"tags\":[\"apply_ranges\"],\"y\":{\"field\":\"RACE\"}},\"id\":\"3075\",\"type\":\"HBar\"},{\"attributes\":{\"coordinates\":null,\"data_source\":{\"id\":\"3076\"},\"glyph\":{\"id\":\"3079\"},\"group\":null,\"hover_glyph\":null,\"muted_glyph\":{\"id\":\"3081\"},\"name\":\"count\",\"nonselection_glyph\":{\"id\":\"3080\"},\"selection_glyph\":{\"id\":\"3096\"},\"view\":{\"id\":\"3083\"}},\"id\":\"3082\",\"type\":\"GlyphRenderer\"},{\"attributes\":{},\"id\":\"3053\",\"type\":\"CategoricalTickFormatter\"},{\"attributes\":{\"margin\":[5,5,5,5],\"name\":\"HSpacer03187\",\"sizing_mode\":\"stretch_width\"},\"id\":\"3013\",\"type\":\"Spacer\"},{\"attributes\":{\"active_drag\":{\"id\":\"3037\"},\"active_scroll\":{\"id\":\"3038\"},\"tools\":[{\"id\":\"3018\"},{\"id\":\"3036\"},{\"id\":\"3037\"},{\"id\":\"3038\"},{\"id\":\"3039\"},{\"id\":\"3040\"}]},\"id\":\"3042\",\"type\":\"Toolbar\"},{\"attributes\":{\"below\":[{\"id\":\"3029\"}],\"center\":[{\"id\":\"3032\"},{\"id\":\"3035\"}],\"height\":300,\"left\":[{\"id\":\"3033\"}],\"margin\":[5,5,5,5],\"min_border_bottom\":10,\"min_border_left\":10,\"min_border_right\":10,\"min_border_top\":10,\"output_backend\":\"webgl\",\"renderers\":[{\"id\":\"3061\"},{\"id\":\"3082\"}],\"right\":[{\"id\":\"3073\"}],\"sizing_mode\":\"fixed\",\"title\":{\"id\":\"3021\"},\"toolbar\":{\"id\":\"3042\"},\"width\":700,\"x_range\":{\"id\":\"3014\"},\"x_scale\":{\"id\":\"3027\"},\"y_range\":{\"id\":\"3015\"},\"y_scale\":{\"id\":\"3028\"}},\"id\":\"3020\",\"subtype\":\"Figure\",\"type\":\"Plot\"},{\"attributes\":{\"fill_alpha\":{\"value\":0.2},\"fill_color\":{\"value\":\"#fc4f30\"},\"hatch_alpha\":{\"value\":0.2},\"hatch_color\":{\"value\":\"#fc4f30\"},\"height\":{\"value\":0.8},\"line_alpha\":{\"value\":0.2},\"right\":{\"field\":\"count\"},\"tags\":[\"apply_ranges\"],\"y\":{\"field\":\"RACE\"}},\"id\":\"3081\",\"type\":\"HBar\"},{\"attributes\":{\"axis_label\":\"\",\"coordinates\":null,\"formatter\":{\"id\":\"3053\"},\"group\":null,\"major_label_policy\":{\"id\":\"3054\"},\"ticker\":{\"id\":\"3034\"}},\"id\":\"3033\",\"type\":\"CategoricalAxis\"},{\"attributes\":{\"click_policy\":\"mute\",\"coordinates\":null,\"group\":null,\"items\":[{\"id\":\"3074\"}],\"location\":[0,0]},\"id\":\"3073\",\"type\":\"Legend\"},{\"attributes\":{\"children\":[{\"id\":\"3013\"},{\"id\":\"3020\"},{\"id\":\"3113\"}],\"margin\":[0,0,0,0],\"name\":\"Row03183\",\"tags\":[\"embedded\"]},\"id\":\"3012\",\"type\":\"Row\"},{\"attributes\":{},\"id\":\"3054\",\"type\":\"AllLabels\"},{\"attributes\":{\"axis\":{\"id\":\"3033\"},\"coordinates\":null,\"dimension\":1,\"grid_line_color\":null,\"group\":null,\"ticker\":null},\"id\":\"3035\",\"type\":\"Grid\"},{\"attributes\":{},\"id\":\"3034\",\"type\":\"CategoricalTicker\"},{\"attributes\":{},\"id\":\"3056\",\"type\":\"Selection\"},{\"attributes\":{\"fill_alpha\":{\"value\":0.3},\"fill_color\":{\"value\":\"#30a2da\"},\"hatch_alpha\":{\"value\":0.3},\"hatch_color\":{\"value\":\"#30a2da\"},\"height\":{\"value\":0.8},\"line_alpha\":{\"value\":0.3},\"right\":{\"field\":\"count\"},\"tags\":[\"apply_ranges\"],\"y\":{\"field\":\"RACE\"}},\"id\":\"3058\",\"type\":\"HBar\"},{\"attributes\":{},\"id\":\"3038\",\"type\":\"WheelZoomTool\"},{\"attributes\":{},\"id\":\"3037\",\"type\":\"PanTool\"},{\"attributes\":{},\"id\":\"3036\",\"type\":\"SaveTool\"},{\"attributes\":{\"overlay\":{\"id\":\"3041\"}},\"id\":\"3039\",\"type\":\"BoxZoomTool\"},{\"attributes\":{},\"id\":\"3040\",\"type\":\"ResetTool\"}],\"root_ids\":[\"3012\"]},\"title\":\"Bokeh Application\",\"version\":\"2.4.3\"}};\n",
       "    var render_items = [{\"docid\":\"0a94104d-c2ac-4255-8477-6ec0a2ef6b40\",\"root_ids\":[\"3012\"],\"roots\":{\"3012\":\"ef66c26d-8a81-49da-8539-ec4d9343edcd\"}}];\n",
       "    root.Bokeh.embed.embed_items_notebook(docs_json, render_items);\n",
       "    for (const render_item of render_items) {\n",
       "      for (const root_id of render_item.root_ids) {\n",
       "\tconst id_el = document.getElementById(root_id)\n",
       "\tif (id_el.children.length && (id_el.children[0].className === 'bk-root')) {\n",
       "\t  const root_el = id_el.children[0]\n",
       "\t  root_el.id = root_el.id + '-rendered'\n",
       "\t}\n",
       "      }\n",
       "    }\n",
       "  }\n",
       "  if (root.Bokeh !== undefined && root.Bokeh.Panel !== undefined) {\n",
       "    embed_document(root);\n",
       "  } else {\n",
       "    var attempts = 0;\n",
       "    var timer = setInterval(function(root) {\n",
       "      if (root.Bokeh !== undefined && root.Bokeh.Panel !== undefined) {\n",
       "        clearInterval(timer);\n",
       "        embed_document(root);\n",
       "      } else if (document.readyState == \"complete\") {\n",
       "        attempts++;\n",
       "        if (attempts > 200) {\n",
       "          clearInterval(timer);\n",
       "          console.log(\"Bokeh: ERROR: Unable to run BokehJS code because BokehJS library is missing\");\n",
       "        }\n",
       "      }\n",
       "    }, 25, root)\n",
       "  }\n",
       "})(window);</script>"
      ],
      "text/plain": [
       ":Overlay\n",
       "   .Bars.Count.I  :Bars   [RACE]   (count)\n",
       "   .Bars.Count.II :Bars   [RACE]   (count)"
      ]
     },
     "execution_count": 144,
     "metadata": {
      "application/vnd.holoviews_exec.v0+json": {
       "id": "3012"
      }
     },
     "output_type": "execute_result"
    }
   ],
   "source": [
    "men = CU.loc[DID['GENDER']=='F', 'RACE'].value_counts().hvplot.barh(alpha=0.3) \n",
    "women = CU.loc[DID['GENDER']=='M', 'RACE'].value_counts().hvplot.barh(alpha=0.3)\n",
    "\n",
    "women * men"
   ]
  },
  {
   "cell_type": "code",
   "execution_count": null,
   "id": "37fa4a71-d10b-4609-a62a-5fa406f56748",
   "metadata": {},
   "outputs": [],
   "source": []
  },
  {
   "cell_type": "markdown",
   "id": "c68e4979-63cf-42e3-8cad-d55d8db6cb2b",
   "metadata": {},
   "source": [
    "#print categorical variable\n",
    "print([column for column in cu.columns if cu[column].dtype == object])"
   ]
  },
  {
   "cell_type": "code",
   "execution_count": 148,
   "id": "fe646d0a-8acf-4430-aeed-4981a2d885ad",
   "metadata": {
    "tags": []
   },
   "outputs": [
    {
     "name": "stdout",
     "output_type": "stream",
     "text": [
      "['CUSTODY_LEVEL', 'BRADH', 'RACE', 'GENDER', 'INMATE_STATUS_CODE', 'SEALED', 'SRG_FLG', 'TOP_CHARGE', 'INFRACTION']\n"
     ]
    }
   ],
   "source": [
    "print([column for column in CU.columns if CU[column].dtype == object])"
   ]
  },
  {
   "cell_type": "code",
   "execution_count": 151,
   "id": "16982fb8-49d7-43b1-a7c3-3b2a08f9fd5c",
   "metadata": {
    "tags": []
   },
   "outputs": [
    {
     "ename": "KeyError",
     "evalue": "\"None of [Index(['CUSTODY_LEVEL', 'BRADH', 'RACE', 'GENDER', 'INMATE_STATUS_CODE',\\n       'SEALED', 'SRG_FLG', 'TOP_CHARGE', 'INFRACTION'],\\n      dtype='object')] are in the [columns]\"",
     "output_type": "error",
     "traceback": [
      "\u001b[1;31m---------------------------------------------------------------------------\u001b[0m",
      "\u001b[1;31mKeyError\u001b[0m                                  Traceback (most recent call last)",
      "Cell \u001b[1;32mIn[151], line 2\u001b[0m\n\u001b[0;32m      1\u001b[0m dummies \u001b[38;5;241m=\u001b[39m [\u001b[38;5;124m'\u001b[39m\u001b[38;5;124mCUSTODY_LEVEL\u001b[39m\u001b[38;5;124m'\u001b[39m, \u001b[38;5;124m'\u001b[39m\u001b[38;5;124mBRADH\u001b[39m\u001b[38;5;124m'\u001b[39m, \u001b[38;5;124m'\u001b[39m\u001b[38;5;124mRACE\u001b[39m\u001b[38;5;124m'\u001b[39m, \u001b[38;5;124m'\u001b[39m\u001b[38;5;124mGENDER\u001b[39m\u001b[38;5;124m'\u001b[39m, \u001b[38;5;124m'\u001b[39m\u001b[38;5;124mINMATE_STATUS_CODE\u001b[39m\u001b[38;5;124m'\u001b[39m, \u001b[38;5;124m'\u001b[39m\u001b[38;5;124mSEALED\u001b[39m\u001b[38;5;124m'\u001b[39m, \u001b[38;5;124m'\u001b[39m\u001b[38;5;124mSRG_FLG\u001b[39m\u001b[38;5;124m'\u001b[39m, \u001b[38;5;124m'\u001b[39m\u001b[38;5;124mTOP_CHARGE\u001b[39m\u001b[38;5;124m'\u001b[39m, \u001b[38;5;124m'\u001b[39m\u001b[38;5;124mINFRACTION\u001b[39m\u001b[38;5;124m'\u001b[39m]\n\u001b[1;32m----> 2\u001b[0m CU \u001b[38;5;241m=\u001b[39m \u001b[43mpd\u001b[49m\u001b[38;5;241;43m.\u001b[39;49m\u001b[43mget_dummies\u001b[49m\u001b[43m(\u001b[49m\u001b[43mCU\u001b[49m\u001b[43m,\u001b[49m\u001b[43m \u001b[49m\u001b[43mcolumns\u001b[49m\u001b[38;5;241;43m=\u001b[39;49m\u001b[43mdummies\u001b[49m\u001b[43m,\u001b[49m\u001b[43m \u001b[49m\u001b[43mdrop_first\u001b[49m\u001b[38;5;241;43m=\u001b[39;49m\u001b[38;5;28;43;01mTrue\u001b[39;49;00m\u001b[43m)\u001b[49m\n",
      "File \u001b[1;32m~\\anaconda3\\lib\\site-packages\\pandas\\core\\reshape\\encoding.py:164\u001b[0m, in \u001b[0;36mget_dummies\u001b[1;34m(data, prefix, prefix_sep, dummy_na, columns, sparse, drop_first, dtype)\u001b[0m\n\u001b[0;32m    162\u001b[0m     \u001b[38;5;28;01mraise\u001b[39;00m \u001b[38;5;167;01mTypeError\u001b[39;00m(\u001b[38;5;124m\"\u001b[39m\u001b[38;5;124mInput must be a list-like for parameter `columns`\u001b[39m\u001b[38;5;124m\"\u001b[39m)\n\u001b[0;32m    163\u001b[0m \u001b[38;5;28;01melse\u001b[39;00m:\n\u001b[1;32m--> 164\u001b[0m     data_to_encode \u001b[38;5;241m=\u001b[39m \u001b[43mdata\u001b[49m\u001b[43m[\u001b[49m\u001b[43mcolumns\u001b[49m\u001b[43m]\u001b[49m\n\u001b[0;32m    166\u001b[0m \u001b[38;5;66;03m# validate prefixes and separator to avoid silently dropping cols\u001b[39;00m\n\u001b[0;32m    167\u001b[0m \u001b[38;5;28;01mdef\u001b[39;00m \u001b[38;5;21mcheck_len\u001b[39m(item, name: \u001b[38;5;28mstr\u001b[39m):\n",
      "File \u001b[1;32m~\\anaconda3\\lib\\site-packages\\pandas\\core\\frame.py:3902\u001b[0m, in \u001b[0;36mDataFrame.__getitem__\u001b[1;34m(self, key)\u001b[0m\n\u001b[0;32m   3900\u001b[0m     \u001b[38;5;28;01mif\u001b[39;00m is_iterator(key):\n\u001b[0;32m   3901\u001b[0m         key \u001b[38;5;241m=\u001b[39m \u001b[38;5;28mlist\u001b[39m(key)\n\u001b[1;32m-> 3902\u001b[0m     indexer \u001b[38;5;241m=\u001b[39m \u001b[38;5;28;43mself\u001b[39;49m\u001b[38;5;241;43m.\u001b[39;49m\u001b[43mcolumns\u001b[49m\u001b[38;5;241;43m.\u001b[39;49m\u001b[43m_get_indexer_strict\u001b[49m\u001b[43m(\u001b[49m\u001b[43mkey\u001b[49m\u001b[43m,\u001b[49m\u001b[43m \u001b[49m\u001b[38;5;124;43m\"\u001b[39;49m\u001b[38;5;124;43mcolumns\u001b[39;49m\u001b[38;5;124;43m\"\u001b[39;49m\u001b[43m)\u001b[49m[\u001b[38;5;241m1\u001b[39m]\n\u001b[0;32m   3904\u001b[0m \u001b[38;5;66;03m# take() does not accept boolean indexers\u001b[39;00m\n\u001b[0;32m   3905\u001b[0m \u001b[38;5;28;01mif\u001b[39;00m \u001b[38;5;28mgetattr\u001b[39m(indexer, \u001b[38;5;124m\"\u001b[39m\u001b[38;5;124mdtype\u001b[39m\u001b[38;5;124m\"\u001b[39m, \u001b[38;5;28;01mNone\u001b[39;00m) \u001b[38;5;241m==\u001b[39m \u001b[38;5;28mbool\u001b[39m:\n",
      "File \u001b[1;32m~\\anaconda3\\lib\\site-packages\\pandas\\core\\indexes\\base.py:6114\u001b[0m, in \u001b[0;36mIndex._get_indexer_strict\u001b[1;34m(self, key, axis_name)\u001b[0m\n\u001b[0;32m   6111\u001b[0m \u001b[38;5;28;01melse\u001b[39;00m:\n\u001b[0;32m   6112\u001b[0m     keyarr, indexer, new_indexer \u001b[38;5;241m=\u001b[39m \u001b[38;5;28mself\u001b[39m\u001b[38;5;241m.\u001b[39m_reindex_non_unique(keyarr)\n\u001b[1;32m-> 6114\u001b[0m \u001b[38;5;28;43mself\u001b[39;49m\u001b[38;5;241;43m.\u001b[39;49m\u001b[43m_raise_if_missing\u001b[49m\u001b[43m(\u001b[49m\u001b[43mkeyarr\u001b[49m\u001b[43m,\u001b[49m\u001b[43m \u001b[49m\u001b[43mindexer\u001b[49m\u001b[43m,\u001b[49m\u001b[43m \u001b[49m\u001b[43maxis_name\u001b[49m\u001b[43m)\u001b[49m\n\u001b[0;32m   6116\u001b[0m keyarr \u001b[38;5;241m=\u001b[39m \u001b[38;5;28mself\u001b[39m\u001b[38;5;241m.\u001b[39mtake(indexer)\n\u001b[0;32m   6117\u001b[0m \u001b[38;5;28;01mif\u001b[39;00m \u001b[38;5;28misinstance\u001b[39m(key, Index):\n\u001b[0;32m   6118\u001b[0m     \u001b[38;5;66;03m# GH 42790 - Preserve name from an Index\u001b[39;00m\n",
      "File \u001b[1;32m~\\anaconda3\\lib\\site-packages\\pandas\\core\\indexes\\base.py:6175\u001b[0m, in \u001b[0;36mIndex._raise_if_missing\u001b[1;34m(self, key, indexer, axis_name)\u001b[0m\n\u001b[0;32m   6173\u001b[0m     \u001b[38;5;28;01mif\u001b[39;00m use_interval_msg:\n\u001b[0;32m   6174\u001b[0m         key \u001b[38;5;241m=\u001b[39m \u001b[38;5;28mlist\u001b[39m(key)\n\u001b[1;32m-> 6175\u001b[0m     \u001b[38;5;28;01mraise\u001b[39;00m \u001b[38;5;167;01mKeyError\u001b[39;00m(\u001b[38;5;124mf\u001b[39m\u001b[38;5;124m\"\u001b[39m\u001b[38;5;124mNone of [\u001b[39m\u001b[38;5;132;01m{\u001b[39;00mkey\u001b[38;5;132;01m}\u001b[39;00m\u001b[38;5;124m] are in the [\u001b[39m\u001b[38;5;132;01m{\u001b[39;00maxis_name\u001b[38;5;132;01m}\u001b[39;00m\u001b[38;5;124m]\u001b[39m\u001b[38;5;124m\"\u001b[39m)\n\u001b[0;32m   6177\u001b[0m not_found \u001b[38;5;241m=\u001b[39m \u001b[38;5;28mlist\u001b[39m(ensure_index(key)[missing_mask\u001b[38;5;241m.\u001b[39mnonzero()[\u001b[38;5;241m0\u001b[39m]]\u001b[38;5;241m.\u001b[39munique())\n\u001b[0;32m   6178\u001b[0m \u001b[38;5;28;01mraise\u001b[39;00m \u001b[38;5;167;01mKeyError\u001b[39;00m(\u001b[38;5;124mf\u001b[39m\u001b[38;5;124m\"\u001b[39m\u001b[38;5;132;01m{\u001b[39;00mnot_found\u001b[38;5;132;01m}\u001b[39;00m\u001b[38;5;124m not in index\u001b[39m\u001b[38;5;124m\"\u001b[39m)\n",
      "\u001b[1;31mKeyError\u001b[0m: \"None of [Index(['CUSTODY_LEVEL', 'BRADH', 'RACE', 'GENDER', 'INMATE_STATUS_CODE',\\n       'SEALED', 'SRG_FLG', 'TOP_CHARGE', 'INFRACTION'],\\n      dtype='object')] are in the [columns]\""
     ]
    }
   ],
   "source": [
    "dummies = ['CUSTODY_LEVEL', 'BRADH', 'RACE', 'GENDER', 'INMATE_STATUS_CODE', 'SEALED', 'SRG_FLG', 'TOP_CHARGE', 'INFRACTION']\n",
    "CU = pd.get_dummies(CU, columns=dummies, drop_first=True)\n"
   ]
  },
  {
   "cell_type": "code",
   "execution_count": null,
   "id": "b695be19-5d3c-4a5a-be44-25e54c38141b",
   "metadata": {},
   "outputs": [],
   "source": []
  },
  {
   "cell_type": "code",
   "execution_count": null,
   "id": "ca3aab76-db22-45eb-ae0d-8df1b98afeb4",
   "metadata": {},
   "outputs": [],
   "source": []
  }
 ],
 "metadata": {
  "kernelspec": {
   "display_name": "Python 3 (ipykernel)",
   "language": "python",
   "name": "python3"
  },
  "language_info": {
   "codemirror_mode": {
    "name": "ipython",
    "version": 3
   },
   "file_extension": ".py",
   "mimetype": "text/x-python",
   "name": "python",
   "nbconvert_exporter": "python",
   "pygments_lexer": "ipython3",
   "version": "3.9.12"
  }
 },
 "nbformat": 4,
 "nbformat_minor": 5
}
